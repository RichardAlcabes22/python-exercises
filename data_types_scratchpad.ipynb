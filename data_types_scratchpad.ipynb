{
 "cells": [
  {
   "cell_type": "code",
   "execution_count": 5,
   "id": "c63302c1",
   "metadata": {},
   "outputs": [],
   "source": [
    "days = [3,5,1]\n",
    "total_days = sum(days)\n",
    "total_price = 3 * total_days\n",
    "total_price"
   ]
  },
  {
   "cell_type": "code",
   "execution_count": 7,
   "id": "0607bae6",
   "metadata": {},
   "outputs": [
    {
     "data": {
      "text/plain": [
       "27"
      ]
     },
     "execution_count": 7,
     "metadata": {},
     "output_type": "execute_result"
    }
   ],
   "source": [
    "total_price = 3 * total_days\n",
    "total_price"
   ]
  },
  {
   "cell_type": "code",
   "execution_count": 9,
   "id": "b488837c",
   "metadata": {},
   "outputs": [
    {
     "data": {
      "text/plain": [
       "7420"
      ]
     },
     "execution_count": 9,
     "metadata": {},
     "output_type": "execute_result"
    }
   ],
   "source": [
    "rates = {'Google' : 400, \n",
    "             'Amazon' : 380, \n",
    "             'Facebook' : 350}\n",
    "total_pay = rates['Facebook'] * 10 + rates['Google'] * 6 + rates['Amazon'] * 4\n",
    "total_pay"
   ]
  },
  {
   "cell_type": "code",
   "execution_count": 10,
   "id": "dfda86bf",
   "metadata": {},
   "outputs": [
    {
     "name": "stdout",
     "output_type": "stream",
     "text": [
      "True\n"
     ]
    }
   ],
   "source": [
    "class_full = False\n",
    "conflict = False\n",
    "\n",
    "can_enroll = not class_full and not conflict\n",
    "print(can_enroll)"
   ]
  },
  {
   "cell_type": "code",
   "execution_count": 12,
   "id": "41e1529f",
   "metadata": {},
   "outputs": [
    {
     "data": {
      "text/plain": [
       "True"
      ]
     },
     "execution_count": 12,
     "metadata": {},
     "output_type": "execute_result"
    }
   ],
   "source": [
    "premium = False\n",
    "expired = False\n",
    "min_items = True\n",
    "\n",
    "apply_disc = premium or (not expired and min_items)\n",
    "apply_disc"
   ]
  },
  {
   "cell_type": "code",
   "execution_count": 13,
   "id": "9c12ec40",
   "metadata": {},
   "outputs": [],
   "source": [
    "username = 'codeup'\n",
    "password = 'notastrongpassword'"
   ]
  },
  {
   "cell_type": "code",
   "execution_count": 14,
   "id": "fc9e1ced",
   "metadata": {},
   "outputs": [
    {
     "data": {
      "text/plain": [
       "True"
      ]
     },
     "execution_count": 14,
     "metadata": {},
     "output_type": "execute_result"
    }
   ],
   "source": [
    "password_check = len(password) >= 5 and len(username) <= 20 and username != password\n",
    "password_check"
   ]
  },
  {
   "cell_type": "code",
   "execution_count": null,
   "id": "7a930e7b",
   "metadata": {},
   "outputs": [],
   "source": []
  },
  {
   "cell_type": "code",
   "execution_count": null,
   "id": "aa295871",
   "metadata": {},
   "outputs": [],
   "source": []
  }
 ],
 "metadata": {
  "kernelspec": {
   "display_name": "Python 3 (ipykernel)",
   "language": "python",
   "name": "python3"
  },
  "language_info": {
   "codemirror_mode": {
    "name": "ipython",
    "version": 3
   },
   "file_extension": ".py",
   "mimetype": "text/x-python",
   "name": "python",
   "nbconvert_exporter": "python",
   "pygments_lexer": "ipython3",
   "version": "3.9.13"
  }
 },
 "nbformat": 4,
 "nbformat_minor": 5
}
