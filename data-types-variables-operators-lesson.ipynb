{
 "cells": [
  {
   "cell_type": "markdown",
   "id": "ce4a0571",
   "metadata": {},
   "source": [
    "## Objectives\n",
    "\n",
    "\n",
    "- Gain familiarity with Jupyter notebooks\n",
    "- Use and manipulate various data types\n",
    "- Create, assign, and update variables\n",
    "- Represent information with data types\n",
    "- Use Boolean operators \n",
    "- Create and modify strings with string methods\n",
    "- Create tuples\n",
    "- Create dictionaries\n",
    "\n",
    "[Reference](https://ds.codeup.com/python/data-types-and-variables/)"
   ]
  },
  {
   "cell_type": "markdown",
   "id": "dc431b96",
   "metadata": {},
   "source": [
    "---\n",
    "## Data Types\n",
    "\n",
    "\n",
    "| Data type | Description |\n",
    "|:-: |----------|\n",
    "| `bool`|   Boolean values (True or False) |\n",
    "| `str`  |  whole, or counting numbers |\n",
    "| `float`|  decimal numbers |\n",
    "| `list`| an ordered sequence of objects |\n",
    "| `dict`| a collection of named values\n",
    "| `NoneType` |  indicates absence of a value\n"
   ]
  },
  {
   "cell_type": "markdown",
   "id": "159fb5e4",
   "metadata": {},
   "source": [
    "\n",
    "###  `type` function\n",
    "\n",
    "Returns the data type of an object. \n",
    "\n",
    "```python\n",
    "type(object)\n",
    "```\n",
    "\n"
   ]
  },
  {
   "cell_type": "markdown",
   "id": "f9d3d310",
   "metadata": {},
   "source": [
    "```python\n",
    "pythonic code stuff\n",
    "```\n",
    "# ` is a BACKTICK!"
   ]
  },
  {
   "cell_type": "markdown",
   "id": "5e798eb4",
   "metadata": {},
   "source": [
    "### Examples"
   ]
  },
  {
   "cell_type": "code",
   "execution_count": 2,
   "id": "de82b240",
   "metadata": {},
   "outputs": [
    {
     "data": {
      "text/plain": [
       "int"
      ]
     },
     "execution_count": 2,
     "metadata": {},
     "output_type": "execute_result"
    }
   ],
   "source": [
    "type(123)"
   ]
  },
  {
   "cell_type": "code",
   "execution_count": 3,
   "id": "0455d3a8",
   "metadata": {},
   "outputs": [
    {
     "data": {
      "text/plain": [
       "float"
      ]
     },
     "execution_count": 3,
     "metadata": {},
     "output_type": "execute_result"
    }
   ],
   "source": [
    "type(123.0)"
   ]
  },
  {
   "cell_type": "code",
   "execution_count": 5,
   "id": "3bc82e8f",
   "metadata": {},
   "outputs": [
    {
     "data": {
      "text/plain": [
       "bool"
      ]
     },
     "execution_count": 5,
     "metadata": {},
     "output_type": "execute_result"
    }
   ],
   "source": [
    "type(True)"
   ]
  },
  {
   "cell_type": "code",
   "execution_count": 6,
   "id": "cc18f795",
   "metadata": {},
   "outputs": [
    {
     "data": {
      "text/plain": [
       "str"
      ]
     },
     "execution_count": 6,
     "metadata": {},
     "output_type": "execute_result"
    }
   ],
   "source": [
    "type('lsdjdkj')"
   ]
  },
  {
   "cell_type": "code",
   "execution_count": null,
   "id": "16add7f2",
   "metadata": {},
   "outputs": [],
   "source": []
  },
  {
   "cell_type": "markdown",
   "id": "e66fe575",
   "metadata": {},
   "source": [
    "---\n",
    "\n",
    "## Variables"
   ]
  },
  {
   "cell_type": "markdown",
   "id": "d4c08266",
   "metadata": {},
   "source": [
    "### Assigning a variable\n",
    "\n"
   ]
  },
  {
   "cell_type": "code",
   "execution_count": 10,
   "id": "c988114a",
   "metadata": {},
   "outputs": [],
   "source": [
    "fav_num = 42\n",
    "n = fav_num + 7"
   ]
  },
  {
   "cell_type": "code",
   "execution_count": 11,
   "id": "43e8bcc5",
   "metadata": {},
   "outputs": [
    {
     "data": {
      "text/plain": [
       "int"
      ]
     },
     "execution_count": 11,
     "metadata": {},
     "output_type": "execute_result"
    }
   ],
   "source": [
    "type(fav_num)"
   ]
  },
  {
   "cell_type": "code",
   "execution_count": 12,
   "id": "36094841",
   "metadata": {},
   "outputs": [
    {
     "name": "stdout",
     "output_type": "stream",
     "text": [
      "<class 'int'>\n"
     ]
    }
   ],
   "source": [
    "print(type(fav_num))"
   ]
  },
  {
   "cell_type": "code",
   "execution_count": null,
   "id": "2d01603d",
   "metadata": {},
   "outputs": [],
   "source": []
  },
  {
   "cell_type": "markdown",
   "id": "becec838",
   "metadata": {},
   "source": [
    "#### Troubleshooting\n",
    "\n",
    "What is the result of the following code?\n",
    "\n",
    "```python\n",
    "a = 6\n",
    "print(a + b)\n",
    "b = 4\n",
    "```\n",
    "\n"
   ]
  },
  {
   "cell_type": "code",
   "execution_count": 13,
   "id": "b8da70e8",
   "metadata": {},
   "outputs": [
    {
     "ename": "NameError",
     "evalue": "name 'b' is not defined",
     "output_type": "error",
     "traceback": [
      "\u001b[0;31m---------------------------------------------------------------------------\u001b[0m",
      "\u001b[0;31mNameError\u001b[0m                                 Traceback (most recent call last)",
      "Input \u001b[0;32mIn [13]\u001b[0m, in \u001b[0;36m<cell line: 2>\u001b[0;34m()\u001b[0m\n\u001b[1;32m      1\u001b[0m a \u001b[38;5;241m=\u001b[39m \u001b[38;5;241m6\u001b[39m\n\u001b[0;32m----> 2\u001b[0m \u001b[38;5;28mprint\u001b[39m(a \u001b[38;5;241m+\u001b[39m \u001b[43mb\u001b[49m)\n\u001b[1;32m      3\u001b[0m b \u001b[38;5;241m=\u001b[39m \u001b[38;5;241m4\u001b[39m\n",
      "\u001b[0;31mNameError\u001b[0m: name 'b' is not defined"
     ]
    }
   ],
   "source": [
    "a = 6\n",
    "print(a + b)\n",
    "b = 4"
   ]
  },
  {
   "cell_type": "code",
   "execution_count": 14,
   "id": "50f2637b",
   "metadata": {},
   "outputs": [
    {
     "name": "stdout",
     "output_type": "stream",
     "text": [
      "10\n"
     ]
    }
   ],
   "source": [
    "a = 6\n",
    "b = 4\n",
    "print(a + b)"
   ]
  },
  {
   "cell_type": "code",
   "execution_count": null,
   "id": "2f0063ad",
   "metadata": {},
   "outputs": [],
   "source": []
  },
  {
   "cell_type": "markdown",
   "id": "d85bfe8e",
   "metadata": {},
   "source": [
    "### Updating a variable\n"
   ]
  },
  {
   "cell_type": "code",
   "execution_count": null,
   "id": "eb69f9e1",
   "metadata": {},
   "outputs": [],
   "source": [
    "A cell we want to delete"
   ]
  },
  {
   "cell_type": "code",
   "execution_count": 22,
   "id": "ad91ae70",
   "metadata": {},
   "outputs": [
    {
     "name": "stdout",
     "output_type": "stream",
     "text": [
      "1\n"
     ]
    }
   ],
   "source": [
    "x = 1\n",
    "print(x)"
   ]
  },
  {
   "cell_type": "code",
   "execution_count": 23,
   "id": "bde1d4b5",
   "metadata": {},
   "outputs": [
    {
     "name": "stdout",
     "output_type": "stream",
     "text": [
      "2\n"
     ]
    }
   ],
   "source": [
    "#add 1 to x\n",
    "x = x + 1\n",
    "print(x)"
   ]
  },
  {
   "cell_type": "code",
   "execution_count": 24,
   "id": "c2c987e7",
   "metadata": {},
   "outputs": [
    {
     "name": "stdout",
     "output_type": "stream",
     "text": [
      "8\n"
     ]
    }
   ],
   "source": [
    "x = x * 3 + x\n",
    "print(x)"
   ]
  },
  {
   "cell_type": "code",
   "execution_count": null,
   "id": "b4721f52",
   "metadata": {},
   "outputs": [],
   "source": []
  },
  {
   "cell_type": "markdown",
   "id": "30cb8a8a",
   "metadata": {},
   "source": [
    "#### Example: Running a cell multiple times"
   ]
  },
  {
   "cell_type": "code",
   "execution_count": 30,
   "id": "90fc31e4",
   "metadata": {},
   "outputs": [],
   "source": [
    "number = 6"
   ]
  },
  {
   "cell_type": "code",
   "execution_count": null,
   "id": "295db134",
   "metadata": {},
   "outputs": [],
   "source": []
  },
  {
   "cell_type": "code",
   "execution_count": null,
   "id": "19137faa",
   "metadata": {},
   "outputs": [],
   "source": [
    "number = number + 1\n",
    "print(number)"
   ]
  },
  {
   "cell_type": "markdown",
   "id": "69fe5566",
   "metadata": {},
   "source": [
    "## Boolean values\n",
    "\n",
    "\n",
    "There are two Boolean values: `True` and `False`\n",
    "\n",
    "**Note:** A Boolean value is not a string\n",
    "\n",
    "```python\n",
    "type(True)\n",
    "```\n",
    "```\n",
    "bool\n",
    "```\n",
    "\n",
    "```python\n",
    "type('True')\n",
    "```\n",
    "```\n",
    "str\n",
    "```\n",
    "\n"
   ]
  },
  {
   "cell_type": "markdown",
   "id": "4e1e476c",
   "metadata": {},
   "source": [
    "## Comparison operators \n",
    "\n",
    "\n",
    "\n",
    "#### Checks for equality\n",
    "```python\n",
    "==\n",
    "```\n",
    "\n",
    "\n",
    "\n",
    "#### Checks for inequality\n",
    "```python\n",
    "!=\n",
    "```"
   ]
  },
  {
   "cell_type": "markdown",
   "id": "db22b82e",
   "metadata": {},
   "source": [
    "### Examples "
   ]
  },
  {
   "cell_type": "code",
   "execution_count": 31,
   "id": "dfa12d91",
   "metadata": {},
   "outputs": [
    {
     "data": {
      "text/plain": [
       "True"
      ]
     },
     "execution_count": 31,
     "metadata": {},
     "output_type": "execute_result"
    }
   ],
   "source": [
    "True == True"
   ]
  },
  {
   "cell_type": "code",
   "execution_count": 33,
   "id": "1459dbf7",
   "metadata": {},
   "outputs": [
    {
     "data": {
      "text/plain": [
       "False"
      ]
     },
     "execution_count": 33,
     "metadata": {},
     "output_type": "execute_result"
    }
   ],
   "source": [
    "True == 123"
   ]
  },
  {
   "cell_type": "code",
   "execution_count": 34,
   "id": "d04720e4",
   "metadata": {},
   "outputs": [
    {
     "data": {
      "text/plain": [
       "True"
      ]
     },
     "execution_count": 34,
     "metadata": {},
     "output_type": "execute_result"
    }
   ],
   "source": [
    "True == 1"
   ]
  },
  {
   "cell_type": "code",
   "execution_count": 35,
   "id": "3f6f17a4",
   "metadata": {},
   "outputs": [
    {
     "data": {
      "text/plain": [
       "True"
      ]
     },
     "execution_count": 35,
     "metadata": {},
     "output_type": "execute_result"
    }
   ],
   "source": [
    "True != False"
   ]
  },
  {
   "cell_type": "code",
   "execution_count": 36,
   "id": "578c247e",
   "metadata": {},
   "outputs": [
    {
     "data": {
      "text/plain": [
       "False"
      ]
     },
     "execution_count": 36,
     "metadata": {},
     "output_type": "execute_result"
    }
   ],
   "source": [
    "True != True"
   ]
  },
  {
   "cell_type": "code",
   "execution_count": 37,
   "id": "284e9d60",
   "metadata": {},
   "outputs": [
    {
     "data": {
      "text/plain": [
       "True"
      ]
     },
     "execution_count": 37,
     "metadata": {},
     "output_type": "execute_result"
    }
   ],
   "source": [
    "5 == 4 + 1"
   ]
  },
  {
   "cell_type": "code",
   "execution_count": 38,
   "id": "82ebb6de",
   "metadata": {},
   "outputs": [
    {
     "data": {
      "text/plain": [
       "True"
      ]
     },
     "execution_count": 38,
     "metadata": {},
     "output_type": "execute_result"
    }
   ],
   "source": [
    "5.0 == 5"
   ]
  },
  {
   "cell_type": "code",
   "execution_count": 39,
   "id": "9f5030f6",
   "metadata": {},
   "outputs": [
    {
     "data": {
      "text/plain": [
       "False"
      ]
     },
     "execution_count": 39,
     "metadata": {},
     "output_type": "execute_result"
    }
   ],
   "source": [
    "'Hello' == 'hello'"
   ]
  },
  {
   "cell_type": "code",
   "execution_count": null,
   "id": "80e1daa4",
   "metadata": {},
   "outputs": [],
   "source": []
  },
  {
   "cell_type": "markdown",
   "id": "0bdf9a97",
   "metadata": {},
   "source": [
    "## Boolean Operators\n",
    "\n",
    "\n",
    "Boolean operators evaluate statements and return a Boolean value.\n",
    "\n",
    "\n",
    "#### `not` statements - also known as a negation\n",
    "\n",
    "\n",
    "Returns the opposite Boolean value\n",
    "\n",
    "| A | not A \n",
    "|:-: | :-:| \n",
    "| T | F |\n",
    "| F | T |\n",
    "\n",
    "\n",
    "\n",
    "For two statements **A** and **B**\n",
    "\n",
    "#### `and` statement - also known as a *conjunction*\n",
    "\n",
    "\n",
    "    \n",
    "    \n",
    "\n",
    "| A | B | A and B\n",
    "|:-: | :-:| :-: | \n",
    "| T | T | T | \n",
    "| T | F | F | \n",
    "| F | T | F | \n",
    "| F | F | F | \n",
    "\n",
    "\n",
    "\n",
    "#### `or` statement - also known as a *disjunction*\n",
    "\n",
    "    \n",
    "\n",
    "| A | B | A or B\n",
    "|:-: | :-:| :-: | \n",
    "| T | T | T | \n",
    "| T | F | T | \n",
    "| F | T | T | \n",
    "| F | F | F | \n",
    "\n",
    "\n"
   ]
  },
  {
   "cell_type": "code",
   "execution_count": 40,
   "id": "e3f4b5e6",
   "metadata": {},
   "outputs": [
    {
     "name": "stdout",
     "output_type": "stream",
     "text": [
      "True\n"
     ]
    }
   ],
   "source": [
    "is_first_of_the_month = True\n",
    "report_has_been_sent = False\n",
    "\n",
    "should_process_report = is_first_of_the_month and not report_has_been_sent\n",
    "print(should_process_report)"
   ]
  },
  {
   "cell_type": "code",
   "execution_count": 41,
   "id": "a7ec4291",
   "metadata": {},
   "outputs": [
    {
     "name": "stdout",
     "output_type": "stream",
     "text": [
      "False\n"
     ]
    }
   ],
   "source": [
    "is_first_of_the_month = False\n",
    "report_has_been_sent = False\n",
    "\n",
    "should_process_report = is_first_of_the_month and not report_has_been_sent\n",
    "print(should_process_report)"
   ]
  },
  {
   "cell_type": "code",
   "execution_count": null,
   "id": "b4c1758e",
   "metadata": {},
   "outputs": [],
   "source": []
  },
  {
   "cell_type": "markdown",
   "id": "ab85b996",
   "metadata": {},
   "source": [
    "\n",
    "\n",
    "## Numbers\n",
    "\n",
    "Two commonly used number types:\n",
    "\n",
    "\n",
    "`int` - Whole numbers (both positive and negative) and 0\n",
    "\n",
    "`float` - Numbers with decimals\n",
    "\n",
    "####  Arithmetic Operations\n",
    "\n",
    "| Operation      | Operator | Example  |\n",
    "| ---------      | -------- | -------  |\n",
    "| Addition       | `+`      | `4 + 4`  |\n",
    "| Subtraction    | `-`      | `9 - 1`  |\n",
    "| Multiplication | `*`      | `4 * 2`  |\n",
    "| Division       | `/`      | `16 / 2` |\n",
    "| Exponentiation | `**`     | `2 ** 3` |\n",
    "\n",
    "\n",
    "\n",
    "####  Comparison Operations\n",
    "\n",
    "| Operator | Description              | Example  |\n",
    "| -------- | -----------              | -------  |\n",
    "| `==`     | Equal to                 | `1 == 1` |\n",
    "| `!=`     | Not equal to             | `1 != 0` |\n",
    "| `>`      | Greater than             | `1 > 0`  |\n",
    "| `<`      | Less than                | `0 < 1`  |\n",
    "| `>=`     | Greater than or equal to | `1 >= 1` |\n",
    "| `<=`     | Less than or equal to    | `1 <= 1` |\n",
    "\n",
    "\n"
   ]
  },
  {
   "cell_type": "markdown",
   "id": "c41910f7",
   "metadata": {},
   "source": [
    "### Examples"
   ]
  },
  {
   "cell_type": "code",
   "execution_count": null,
   "id": "04832d7f",
   "metadata": {},
   "outputs": [],
   "source": []
  },
  {
   "cell_type": "code",
   "execution_count": null,
   "id": "08fc3046",
   "metadata": {},
   "outputs": [],
   "source": []
  },
  {
   "cell_type": "markdown",
   "id": "3a5496a8",
   "metadata": {},
   "source": [
    "---\n",
    "## Strings\n",
    "\n",
    "Strings represent text and are enclosed by quotes.\n",
    "\n",
    "\n",
    "\n",
    "```python\n",
    "'A string in single quotes'\n",
    "```\n",
    "\n",
    "\n",
    "\n",
    "```python\n",
    "\"A string in double quotes\"\n",
    "```\n",
    "\n",
    "\n",
    "\n",
    "```python\n",
    "'''A multi-line\n",
    "string in\n",
    "triple quotes'''\n",
    "```\n"
   ]
  },
  {
   "cell_type": "markdown",
   "id": "8360f2f2",
   "metadata": {},
   "source": [
    "### Examples\n",
    "\n"
   ]
  },
  {
   "cell_type": "code",
   "execution_count": null,
   "id": "0560f2af",
   "metadata": {},
   "outputs": [],
   "source": []
  },
  {
   "cell_type": "code",
   "execution_count": null,
   "id": "76ec8629",
   "metadata": {},
   "outputs": [],
   "source": []
  },
  {
   "cell_type": "markdown",
   "id": "aef02a48",
   "metadata": {},
   "source": [
    "### Operations with strings\n"
   ]
  },
  {
   "cell_type": "code",
   "execution_count": 42,
   "id": "dc2908c2",
   "metadata": {},
   "outputs": [
    {
     "name": "stdout",
     "output_type": "stream",
     "text": [
      "Here is a single quote --> ' <-- \n",
      "Here is a single quote --> ' <-- \n",
      "\n",
      "Here is a double quote --> \" <--\n",
      "Here is a double quote --> \" <--\n",
      "\n",
      "Newlines are indicated by the character \"n\" preceded by a backslash, like so\n",
      "\n",
      "This string\n",
      "contains a newline\n"
     ]
    }
   ],
   "source": [
    "print('Here is a single quote --> \\' <-- ')\n",
    "print(\"Here is a single quote --> ' <-- \")\n",
    "print()\n",
    "print(\"Here is a double quote --> \\\" <--\")\n",
    "print('Here is a double quote --> \" <--')\n",
    "print()\n",
    "print('Newlines are indicated by the character \"n\" preceded by a backslash, like so')\n",
    "print()\n",
    "print('This string\\ncontains a newline')\n"
   ]
  },
  {
   "cell_type": "code",
   "execution_count": 43,
   "id": "12c6430c",
   "metadata": {},
   "outputs": [
    {
     "data": {
      "text/plain": [
       "False"
      ]
     },
     "execution_count": 43,
     "metadata": {},
     "output_type": "execute_result"
    }
   ],
   "source": [
    "'hello' == 'heLlo'"
   ]
  },
  {
   "cell_type": "code",
   "execution_count": 44,
   "id": "59350f0d",
   "metadata": {},
   "outputs": [
    {
     "data": {
      "text/plain": [
       "True"
      ]
     },
     "execution_count": 44,
     "metadata": {},
     "output_type": "execute_result"
    }
   ],
   "source": [
    "'abc' != 'def'"
   ]
  },
  {
   "cell_type": "code",
   "execution_count": 45,
   "id": "c8dc6245",
   "metadata": {},
   "outputs": [
    {
     "data": {
      "text/plain": [
       "'abcdef'"
      ]
     },
     "execution_count": 45,
     "metadata": {},
     "output_type": "execute_result"
    }
   ],
   "source": [
    "## concat\n",
    "'abc' + 'def'"
   ]
  },
  {
   "cell_type": "code",
   "execution_count": 46,
   "id": "755d0342",
   "metadata": {},
   "outputs": [
    {
     "data": {
      "text/plain": [
       "'abcabcabc'"
      ]
     },
     "execution_count": 46,
     "metadata": {},
     "output_type": "execute_result"
    }
   ],
   "source": [
    "'abc' * 3"
   ]
  },
  {
   "cell_type": "code",
   "execution_count": 47,
   "id": "820a8deb",
   "metadata": {},
   "outputs": [
    {
     "ename": "TypeError",
     "evalue": "can only concatenate str (not \"int\") to str",
     "output_type": "error",
     "traceback": [
      "\u001b[0;31m---------------------------------------------------------------------------\u001b[0m",
      "\u001b[0;31mTypeError\u001b[0m                                 Traceback (most recent call last)",
      "Input \u001b[0;32mIn [47]\u001b[0m, in \u001b[0;36m<cell line: 1>\u001b[0;34m()\u001b[0m\n\u001b[0;32m----> 1\u001b[0m \u001b[38;5;124;43m'\u001b[39;49m\u001b[38;5;124;43m2\u001b[39;49m\u001b[38;5;124;43m'\u001b[39;49m\u001b[43m \u001b[49m\u001b[38;5;241;43m+\u001b[39;49m\u001b[43m \u001b[49m\u001b[38;5;241;43m1\u001b[39;49m\n",
      "\u001b[0;31mTypeError\u001b[0m: can only concatenate str (not \"int\") to str"
     ]
    }
   ],
   "source": [
    "'2' + 1"
   ]
  },
  {
   "cell_type": "code",
   "execution_count": 49,
   "id": "440464e8",
   "metadata": {},
   "outputs": [],
   "source": [
    "my_name = 'Rich'"
   ]
  },
  {
   "cell_type": "code",
   "execution_count": 50,
   "id": "2af09a39",
   "metadata": {},
   "outputs": [
    {
     "data": {
      "text/plain": [
       "'Hello, Rich!'"
      ]
     },
     "execution_count": 50,
     "metadata": {},
     "output_type": "execute_result"
    }
   ],
   "source": [
    "'Hello, %s!' % my_name"
   ]
  },
  {
   "cell_type": "code",
   "execution_count": 51,
   "id": "20c6c619",
   "metadata": {},
   "outputs": [
    {
     "data": {
      "text/plain": [
       "'Hello, Rich!'"
      ]
     },
     "execution_count": 51,
     "metadata": {},
     "output_type": "execute_result"
    }
   ],
   "source": [
    "'Hello, {}!'.format(my_name)"
   ]
  },
  {
   "cell_type": "code",
   "execution_count": 52,
   "id": "b0f482aa",
   "metadata": {},
   "outputs": [
    {
     "data": {
      "text/plain": [
       "'Hello, Rich!  How r u?'"
      ]
     },
     "execution_count": 52,
     "metadata": {},
     "output_type": "execute_result"
    }
   ],
   "source": [
    "f'Hello, {my_name}!  How r u?'"
   ]
  },
  {
   "cell_type": "code",
   "execution_count": null,
   "id": "ecdb2f21",
   "metadata": {},
   "outputs": [],
   "source": []
  },
  {
   "cell_type": "code",
   "execution_count": null,
   "id": "f407dcbb",
   "metadata": {},
   "outputs": [],
   "source": []
  },
  {
   "cell_type": "markdown",
   "id": "fd700c3a",
   "metadata": {},
   "source": [
    "### Examples"
   ]
  },
  {
   "cell_type": "code",
   "execution_count": null,
   "id": "482dd6b8",
   "metadata": {},
   "outputs": [],
   "source": []
  },
  {
   "cell_type": "markdown",
   "id": "43cba2ea",
   "metadata": {},
   "source": [
    "### Formatting strings \n"
   ]
  },
  {
   "cell_type": "code",
   "execution_count": null,
   "id": "3d22abd5",
   "metadata": {},
   "outputs": [],
   "source": []
  },
  {
   "cell_type": "markdown",
   "id": "dfdd3a28",
   "metadata": {},
   "source": [
    "### Examples"
   ]
  },
  {
   "cell_type": "code",
   "execution_count": null,
   "id": "70245ab6",
   "metadata": {},
   "outputs": [],
   "source": []
  },
  {
   "cell_type": "code",
   "execution_count": null,
   "id": "01d38009",
   "metadata": {},
   "outputs": [],
   "source": []
  },
  {
   "cell_type": "markdown",
   "id": "56606a97",
   "metadata": {},
   "source": [
    "### String methods"
   ]
  },
  {
   "cell_type": "markdown",
   "id": "8d2ffe5d",
   "metadata": {},
   "source": [
    "A string method does not modify the original string. \n",
    "\n",
    "Assign the result to a new variable or update the string to use the modified string. \n",
    "\n",
    "\n",
    "\n",
    "| Data type | Description |\n",
    "|:-: |----------|\n",
    "| `.lower`|  convert to lower case\n",
    "| `.upper`|  convert to upper case\n",
    "| `.strip`  |  remove leading or trailing whitespace\n",
    "| `.isdigit`|  tests whether a string is a number |\n",
    "| `.split`| converts a string to a list |\n",
    "| `.join`| converts a list to a string\n",
    "\n"
   ]
  },
  {
   "cell_type": "markdown",
   "id": "6e060c17",
   "metadata": {},
   "source": [
    "### Examples"
   ]
  },
  {
   "cell_type": "code",
   "execution_count": 53,
   "id": "31fd0552",
   "metadata": {},
   "outputs": [],
   "source": [
    "s = '    Hello   World!   '"
   ]
  },
  {
   "cell_type": "code",
   "execution_count": 54,
   "id": "ddf07f0f",
   "metadata": {},
   "outputs": [
    {
     "data": {
      "text/plain": [
       "'    hello   world!   '"
      ]
     },
     "execution_count": 54,
     "metadata": {},
     "output_type": "execute_result"
    }
   ],
   "source": [
    "s.lower()"
   ]
  },
  {
   "cell_type": "code",
   "execution_count": 55,
   "id": "d3c0662a",
   "metadata": {},
   "outputs": [
    {
     "data": {
      "text/plain": [
       "'    Hello   World!   '"
      ]
     },
     "execution_count": 55,
     "metadata": {},
     "output_type": "execute_result"
    }
   ],
   "source": [
    "s"
   ]
  },
  {
   "cell_type": "code",
   "execution_count": 56,
   "id": "b6e3e724",
   "metadata": {},
   "outputs": [
    {
     "data": {
      "text/plain": [
       "'Hello   World!'"
      ]
     },
     "execution_count": 56,
     "metadata": {},
     "output_type": "execute_result"
    }
   ],
   "source": [
    "s.strip()"
   ]
  },
  {
   "cell_type": "code",
   "execution_count": 61,
   "id": "78b3aa7f",
   "metadata": {},
   "outputs": [],
   "source": [
    "a = 'AAA123'\n",
    "b = '123'"
   ]
  },
  {
   "cell_type": "code",
   "execution_count": 59,
   "id": "37d7c965",
   "metadata": {},
   "outputs": [
    {
     "data": {
      "text/plain": [
       "False"
      ]
     },
     "execution_count": 59,
     "metadata": {},
     "output_type": "execute_result"
    }
   ],
   "source": [
    "a.isdigit()"
   ]
  },
  {
   "cell_type": "code",
   "execution_count": 62,
   "id": "26b72867",
   "metadata": {},
   "outputs": [
    {
     "data": {
      "text/plain": [
       "True"
      ]
     },
     "execution_count": 62,
     "metadata": {},
     "output_type": "execute_result"
    }
   ],
   "source": [
    "b.isdigit()"
   ]
  },
  {
   "cell_type": "code",
   "execution_count": 64,
   "id": "fac7b632",
   "metadata": {},
   "outputs": [
    {
     "data": {
      "text/plain": [
       "['123', 'Main', 'Street']"
      ]
     },
     "execution_count": 64,
     "metadata": {},
     "output_type": "execute_result"
    }
   ],
   "source": [
    "b = '123, Main, Street'\n",
    "\n",
    "b.split(', ')"
   ]
  },
  {
   "cell_type": "code",
   "execution_count": 66,
   "id": "cfbe6382",
   "metadata": {},
   "outputs": [
    {
     "data": {
      "text/plain": [
       "['123', 'main', 'street']"
      ]
     },
     "execution_count": 66,
     "metadata": {},
     "output_type": "execute_result"
    }
   ],
   "source": [
    "b.lower().split(', ')"
   ]
  },
  {
   "cell_type": "code",
   "execution_count": 67,
   "id": "28303cca",
   "metadata": {},
   "outputs": [
    {
     "data": {
      "text/plain": [
       "'one, two, three'"
      ]
     },
     "execution_count": 67,
     "metadata": {},
     "output_type": "execute_result"
    }
   ],
   "source": [
    "', '.join(['one','two','three'])"
   ]
  },
  {
   "cell_type": "code",
   "execution_count": null,
   "id": "9c52d930",
   "metadata": {},
   "outputs": [],
   "source": []
  },
  {
   "cell_type": "markdown",
   "id": "834a6bab",
   "metadata": {},
   "source": [
    "---\n",
    "\n",
    "## Lists"
   ]
  },
  {
   "cell_type": "markdown",
   "id": "5d3a6fc1",
   "metadata": {},
   "source": [
    "### Creating a list\n",
    "\n"
   ]
  },
  {
   "cell_type": "code",
   "execution_count": 68,
   "id": "23f3087e",
   "metadata": {},
   "outputs": [],
   "source": [
    "number_list = [1,2,3] # list w/ 3 ints"
   ]
  },
  {
   "cell_type": "code",
   "execution_count": 69,
   "id": "363b13a0",
   "metadata": {},
   "outputs": [],
   "source": [
    "string_list = ['one','two','three']"
   ]
  },
  {
   "cell_type": "code",
   "execution_count": 74,
   "id": "74602f34",
   "metadata": {},
   "outputs": [],
   "source": [
    "list_of_lists = [number_list,string_list]"
   ]
  },
  {
   "cell_type": "code",
   "execution_count": 75,
   "id": "d705fdda",
   "metadata": {},
   "outputs": [
    {
     "data": {
      "text/plain": [
       "[[1, 2, 3], ['one', 'two', 'three']]"
      ]
     },
     "execution_count": 75,
     "metadata": {},
     "output_type": "execute_result"
    }
   ],
   "source": [
    "list_of_lists"
   ]
  },
  {
   "cell_type": "code",
   "execution_count": null,
   "id": "b2615caa",
   "metadata": {},
   "outputs": [],
   "source": []
  },
  {
   "cell_type": "markdown",
   "id": "8014f139",
   "metadata": {},
   "source": [
    "### List comprehensions"
   ]
  },
  {
   "cell_type": "code",
   "execution_count": 71,
   "id": "a1c8ecbf",
   "metadata": {},
   "outputs": [
    {
     "data": {
      "text/plain": [
       "[0, 1, 2, 3, 4, 5, 6, 7, 8, 9]"
      ]
     },
     "execution_count": 71,
     "metadata": {},
     "output_type": "execute_result"
    }
   ],
   "source": [
    "[n for n in range(10)]"
   ]
  },
  {
   "cell_type": "code",
   "execution_count": 72,
   "id": "48895a07",
   "metadata": {},
   "outputs": [
    {
     "data": {
      "text/plain": [
       "[0, 2, 4, 6, 8, 10, 12, 14, 16, 18]"
      ]
     },
     "execution_count": 72,
     "metadata": {},
     "output_type": "execute_result"
    }
   ],
   "source": [
    "[n * 2 for n in range(10)]"
   ]
  },
  {
   "cell_type": "code",
   "execution_count": 73,
   "id": "c15b867d",
   "metadata": {},
   "outputs": [
    {
     "data": {
      "text/plain": [
       "[0, 4, 8, 12, 16]"
      ]
     },
     "execution_count": 73,
     "metadata": {},
     "output_type": "execute_result"
    }
   ],
   "source": [
    "[n * 2 for n in range(10) if n % 2 == 0]"
   ]
  },
  {
   "cell_type": "code",
   "execution_count": null,
   "id": "0521d05c",
   "metadata": {},
   "outputs": [],
   "source": []
  },
  {
   "cell_type": "code",
   "execution_count": null,
   "id": "3f02757e",
   "metadata": {},
   "outputs": [],
   "source": []
  },
  {
   "cell_type": "markdown",
   "id": "f8ec2026",
   "metadata": {},
   "source": [
    "### List Operations"
   ]
  },
  {
   "cell_type": "code",
   "execution_count": 76,
   "id": "7e836101",
   "metadata": {},
   "outputs": [],
   "source": [
    "numbers = [1,2,3]"
   ]
  },
  {
   "cell_type": "code",
   "execution_count": 77,
   "id": "038e4cc0",
   "metadata": {},
   "outputs": [
    {
     "data": {
      "text/plain": [
       "[1, 2, 3, 4]"
      ]
     },
     "execution_count": 77,
     "metadata": {},
     "output_type": "execute_result"
    }
   ],
   "source": [
    "# add 4 to the list\n",
    "numbers.append(4)\n",
    "numbers"
   ]
  },
  {
   "cell_type": "code",
   "execution_count": 78,
   "id": "ecdc7ae2",
   "metadata": {},
   "outputs": [
    {
     "data": {
      "text/plain": [
       "[1, 2, 3]"
      ]
     },
     "execution_count": 78,
     "metadata": {},
     "output_type": "execute_result"
    }
   ],
   "source": [
    "numbers.pop()\n",
    "numbers"
   ]
  },
  {
   "cell_type": "code",
   "execution_count": 79,
   "id": "8c734b12",
   "metadata": {},
   "outputs": [
    {
     "data": {
      "text/plain": [
       "3"
      ]
     },
     "execution_count": 79,
     "metadata": {},
     "output_type": "execute_result"
    }
   ],
   "source": [
    "len(numbers)"
   ]
  },
  {
   "cell_type": "code",
   "execution_count": 80,
   "id": "1b8cb238",
   "metadata": {},
   "outputs": [
    {
     "data": {
      "text/plain": [
       "1"
      ]
     },
     "execution_count": 80,
     "metadata": {},
     "output_type": "execute_result"
    }
   ],
   "source": [
    "# index\n",
    "\n",
    "numbers[0]"
   ]
  },
  {
   "cell_type": "code",
   "execution_count": 81,
   "id": "c37524f8",
   "metadata": {},
   "outputs": [
    {
     "data": {
      "text/plain": [
       "[1, 2]"
      ]
     },
     "execution_count": 81,
     "metadata": {},
     "output_type": "execute_result"
    }
   ],
   "source": [
    "numbers[:2]"
   ]
  },
  {
   "cell_type": "code",
   "execution_count": 82,
   "id": "5d3ffd93",
   "metadata": {},
   "outputs": [
    {
     "data": {
      "text/plain": [
       "[2, 3]"
      ]
     },
     "execution_count": 82,
     "metadata": {},
     "output_type": "execute_result"
    }
   ],
   "source": [
    "numbers[1:]"
   ]
  },
  {
   "cell_type": "code",
   "execution_count": 83,
   "id": "304c0a51",
   "metadata": {},
   "outputs": [
    {
     "data": {
      "text/plain": [
       "['a', 'b', 'c', 'd', 'e']"
      ]
     },
     "execution_count": 83,
     "metadata": {},
     "output_type": "execute_result"
    }
   ],
   "source": [
    "## convert to a LIST\n",
    "# list()\n",
    "list('abcde')"
   ]
  },
  {
   "cell_type": "code",
   "execution_count": 85,
   "id": "32de2e1d",
   "metadata": {},
   "outputs": [
    {
     "data": {
      "text/plain": [
       "['a', 'b', 'c', 'd', 'e']"
      ]
     },
     "execution_count": 85,
     "metadata": {},
     "output_type": "execute_result"
    }
   ],
   "source": [
    "list('abcde')"
   ]
  },
  {
   "cell_type": "code",
   "execution_count": 89,
   "id": "83948a6d",
   "metadata": {},
   "outputs": [
    {
     "data": {
      "text/plain": [
       "[0, 1, 2, 3, 4, 5, 6, 7, 8, 9]"
      ]
     },
     "execution_count": 89,
     "metadata": {},
     "output_type": "execute_result"
    }
   ],
   "source": [
    "list(range(10))"
   ]
  },
  {
   "cell_type": "code",
   "execution_count": 90,
   "id": "70fb9d9e",
   "metadata": {},
   "outputs": [
    {
     "data": {
      "text/plain": [
       "[2, 3, 4, 5, 6, 7, 8, 9]"
      ]
     },
     "execution_count": 90,
     "metadata": {},
     "output_type": "execute_result"
    }
   ],
   "source": [
    "list(range(2,10))"
   ]
  },
  {
   "cell_type": "code",
   "execution_count": 91,
   "id": "f876f3b5",
   "metadata": {},
   "outputs": [
    {
     "data": {
      "text/plain": [
       "['1', '2', '3']"
      ]
     },
     "execution_count": 91,
     "metadata": {},
     "output_type": "execute_result"
    }
   ],
   "source": [
    "my_numbers = [1,2,3]\n",
    "\n",
    "#map() function\n",
    "\n",
    "list(map(str,my_numbers))"
   ]
  },
  {
   "cell_type": "code",
   "execution_count": 93,
   "id": "1073be7b",
   "metadata": {},
   "outputs": [
    {
     "data": {
      "text/plain": [
       "[<map at 0x1241c9ca0>, <map at 0x1241c9d60>, <map at 0x1241c9f10>]"
      ]
     },
     "execution_count": 93,
     "metadata": {},
     "output_type": "execute_result"
    }
   ],
   "source": [
    " # [map(str,my_numbers) for i in my_numbers]  how to write a list comp?"
   ]
  },
  {
   "cell_type": "code",
   "execution_count": null,
   "id": "83a9a0de",
   "metadata": {},
   "outputs": [],
   "source": []
  },
  {
   "cell_type": "code",
   "execution_count": null,
   "id": "3f2dd813",
   "metadata": {},
   "outputs": [],
   "source": []
  },
  {
   "cell_type": "markdown",
   "id": "9d85e9cf",
   "metadata": {},
   "source": [
    "---\n",
    "\n",
    "## Tuples"
   ]
  },
  {
   "cell_type": "code",
   "execution_count": 94,
   "id": "b41502ed",
   "metadata": {},
   "outputs": [],
   "source": [
    "my_tuple = (1,2,3)"
   ]
  },
  {
   "cell_type": "code",
   "execution_count": 95,
   "id": "2cfecbb8",
   "metadata": {},
   "outputs": [
    {
     "data": {
      "text/plain": [
       "tuple"
      ]
     },
     "execution_count": 95,
     "metadata": {},
     "output_type": "execute_result"
    }
   ],
   "source": [
    "type(my_tuple)"
   ]
  },
  {
   "cell_type": "code",
   "execution_count": 96,
   "id": "f6921e59",
   "metadata": {},
   "outputs": [
    {
     "data": {
      "text/plain": [
       "1"
      ]
     },
     "execution_count": 96,
     "metadata": {},
     "output_type": "execute_result"
    }
   ],
   "source": [
    "my_tuple[0]"
   ]
  },
  {
   "cell_type": "code",
   "execution_count": null,
   "id": "0c323ae0",
   "metadata": {},
   "outputs": [],
   "source": []
  },
  {
   "cell_type": "markdown",
   "id": "5380a52b",
   "metadata": {},
   "source": [
    "\n",
    "---\n",
    "\n",
    "## Dictionaries"
   ]
  },
  {
   "cell_type": "code",
   "execution_count": 98,
   "id": "f0025b56",
   "metadata": {},
   "outputs": [
    {
     "data": {
      "text/plain": [
       "{'name': 'Codeup', 'age': 9}"
      ]
     },
     "execution_count": 98,
     "metadata": {},
     "output_type": "execute_result"
    }
   ],
   "source": [
    "my_dictionary = {\n",
    "    'name' : 'Codeup',\n",
    "    'age'  : 9\n",
    "}\n",
    "my_dictionary"
   ]
  },
  {
   "cell_type": "code",
   "execution_count": 101,
   "id": "87783fac",
   "metadata": {},
   "outputs": [
    {
     "data": {
      "text/plain": [
       "{'name': 'Codeup', 'age': 9}"
      ]
     },
     "execution_count": 101,
     "metadata": {},
     "output_type": "execute_result"
    }
   ],
   "source": [
    "dict(name = 'Codeup', age = 9)"
   ]
  },
  {
   "cell_type": "code",
   "execution_count": 104,
   "id": "422d9689",
   "metadata": {},
   "outputs": [
    {
     "ename": "SyntaxError",
     "evalue": "expression cannot contain assignment, perhaps you meant \"==\"? (1545198473.py, line 1)",
     "output_type": "error",
     "traceback": [
      "\u001b[0;36m  Input \u001b[0;32mIn [104]\u001b[0;36m\u001b[0m\n\u001b[0;31m    dict(10 = 'Codeup', 11 = 9)\u001b[0m\n\u001b[0m         ^\u001b[0m\n\u001b[0;31mSyntaxError\u001b[0m\u001b[0;31m:\u001b[0m expression cannot contain assignment, perhaps you meant \"==\"?\n"
     ]
    }
   ],
   "source": [
    "dict(10 = 'Codeup', 11 = 9)"
   ]
  },
  {
   "cell_type": "code",
   "execution_count": null,
   "id": "1c0a4d10",
   "metadata": {},
   "outputs": [],
   "source": []
  },
  {
   "cell_type": "code",
   "execution_count": null,
   "id": "fc1c0cdb",
   "metadata": {},
   "outputs": [],
   "source": []
  },
  {
   "cell_type": "code",
   "execution_count": null,
   "id": "79b866fd",
   "metadata": {},
   "outputs": [],
   "source": []
  },
  {
   "cell_type": "markdown",
   "id": "49bd9070",
   "metadata": {},
   "source": [
    "### Creating a dictionary "
   ]
  },
  {
   "cell_type": "code",
   "execution_count": null,
   "id": "13b47117",
   "metadata": {},
   "outputs": [],
   "source": []
  },
  {
   "cell_type": "markdown",
   "id": "d3bc3500",
   "metadata": {},
   "source": [
    "### Accessing dictionary values"
   ]
  },
  {
   "cell_type": "code",
   "execution_count": 103,
   "id": "1d9f49a2",
   "metadata": {},
   "outputs": [
    {
     "data": {
      "text/plain": [
       "'Codeup'"
      ]
     },
     "execution_count": 103,
     "metadata": {},
     "output_type": "execute_result"
    }
   ],
   "source": [
    "school = dict(name = 'Codeup', age = 9)\n",
    "school['name']"
   ]
  },
  {
   "cell_type": "code",
   "execution_count": 107,
   "id": "1db2b205",
   "metadata": {},
   "outputs": [
    {
     "data": {
      "text/plain": [
       "{'name': 'Codeup', 'age': 10}"
      ]
     },
     "execution_count": 107,
     "metadata": {},
     "output_type": "execute_result"
    }
   ],
   "source": [
    "school['age'] += 1\n",
    "school"
   ]
  },
  {
   "cell_type": "code",
   "execution_count": null,
   "id": "376b77ed",
   "metadata": {},
   "outputs": [],
   "source": []
  },
  {
   "cell_type": "code",
   "execution_count": null,
   "id": "c658176f",
   "metadata": {},
   "outputs": [],
   "source": []
  },
  {
   "cell_type": "code",
   "execution_count": null,
   "id": "3d4e9046",
   "metadata": {},
   "outputs": [],
   "source": []
  },
  {
   "cell_type": "markdown",
   "id": "bc98e720",
   "metadata": {},
   "source": [
    "## Changing data types\n",
    "\n",
    "```python\n",
    "int()\n",
    "```\n",
    "\n",
    "```python\n",
    "str()\n",
    "```\n",
    "\n"
   ]
  },
  {
   "cell_type": "code",
   "execution_count": 108,
   "id": "4adf5640",
   "metadata": {},
   "outputs": [
    {
     "data": {
      "text/plain": [
       "int"
      ]
     },
     "execution_count": 108,
     "metadata": {},
     "output_type": "execute_result"
    }
   ],
   "source": [
    "a = 3 \n",
    "type(a)"
   ]
  },
  {
   "cell_type": "code",
   "execution_count": 109,
   "id": "c61236b0",
   "metadata": {},
   "outputs": [
    {
     "data": {
      "text/plain": [
       "'3'"
      ]
     },
     "execution_count": 109,
     "metadata": {},
     "output_type": "execute_result"
    }
   ],
   "source": [
    "str(a)"
   ]
  },
  {
   "cell_type": "code",
   "execution_count": 110,
   "id": "ebca5a19",
   "metadata": {},
   "outputs": [
    {
     "data": {
      "text/plain": [
       "str"
      ]
     },
     "execution_count": 110,
     "metadata": {},
     "output_type": "execute_result"
    }
   ],
   "source": [
    "b = '6'\n",
    "type(b)"
   ]
  },
  {
   "cell_type": "code",
   "execution_count": 111,
   "id": "9df505ee",
   "metadata": {},
   "outputs": [
    {
     "data": {
      "text/plain": [
       "6"
      ]
     },
     "execution_count": 111,
     "metadata": {},
     "output_type": "execute_result"
    }
   ],
   "source": [
    "int(b)"
   ]
  },
  {
   "cell_type": "code",
   "execution_count": 114,
   "id": "9d3be91e",
   "metadata": {},
   "outputs": [
    {
     "data": {
      "text/plain": [
       "str"
      ]
     },
     "execution_count": 114,
     "metadata": {},
     "output_type": "execute_result"
    }
   ],
   "source": [
    "type(b)"
   ]
  },
  {
   "cell_type": "code",
   "execution_count": null,
   "id": "b87f14a3",
   "metadata": {},
   "outputs": [],
   "source": []
  },
  {
   "cell_type": "code",
   "execution_count": 112,
   "id": "39d8c923",
   "metadata": {},
   "outputs": [
    {
     "data": {
      "text/plain": [
       "1"
      ]
     },
     "execution_count": 112,
     "metadata": {},
     "output_type": "execute_result"
    }
   ],
   "source": [
    "int(True)"
   ]
  },
  {
   "cell_type": "code",
   "execution_count": null,
   "id": "00bb7429",
   "metadata": {},
   "outputs": [],
   "source": []
  },
  {
   "cell_type": "markdown",
   "id": "c7d4d25b",
   "metadata": {},
   "source": [
    "### Examples"
   ]
  },
  {
   "cell_type": "code",
   "execution_count": null,
   "id": "ab0d864a",
   "metadata": {},
   "outputs": [],
   "source": []
  },
  {
   "cell_type": "markdown",
   "id": "fe642f3d",
   "metadata": {},
   "source": [
    "### Getting user input with `input`\n",
    "\n",
    "```python\n",
    "name = input('What is your name?')\n",
    "print(name)\n",
    "```"
   ]
  },
  {
   "cell_type": "code",
   "execution_count": 115,
   "id": "b9634581",
   "metadata": {},
   "outputs": [
    {
     "name": "stdout",
     "output_type": "stream",
     "text": [
      "What is your name?judhfjsh\n",
      "judhfjsh\n"
     ]
    }
   ],
   "source": [
    "name = input('What is your name?')\n",
    "print(name)"
   ]
  },
  {
   "cell_type": "code",
   "execution_count": 116,
   "id": "86f70c29",
   "metadata": {},
   "outputs": [
    {
     "data": {
      "text/plain": [
       "'judhfjsh'"
      ]
     },
     "execution_count": 116,
     "metadata": {},
     "output_type": "execute_result"
    }
   ],
   "source": [
    "name"
   ]
  },
  {
   "cell_type": "code",
   "execution_count": 117,
   "id": "f603cdcb",
   "metadata": {},
   "outputs": [
    {
     "name": "stdout",
     "output_type": "stream",
     "text": [
      "What is the first number?1\n",
      "What is the second number?2\n",
      "What is the third number?3\n"
     ]
    }
   ],
   "source": [
    "first_number = input('What is the first number?')\n",
    "second_number = input('What is the second number?')\n",
    "third_number = input('What is the third number?')"
   ]
  },
  {
   "cell_type": "code",
   "execution_count": null,
   "id": "cdca3f31",
   "metadata": {},
   "outputs": [],
   "source": [
    "\n"
   ]
  },
  {
   "cell_type": "code",
   "execution_count": null,
   "id": "1a344a24",
   "metadata": {},
   "outputs": [],
   "source": []
  }
 ],
 "metadata": {
  "kernelspec": {
   "display_name": "Python 3 (ipykernel)",
   "language": "python",
   "name": "python3"
  },
  "language_info": {
   "codemirror_mode": {
    "name": "ipython",
    "version": 3
   },
   "file_extension": ".py",
   "mimetype": "text/x-python",
   "name": "python",
   "nbconvert_exporter": "python",
   "pygments_lexer": "ipython3",
   "version": "3.9.13"
  }
 },
 "nbformat": 4,
 "nbformat_minor": 5
}
