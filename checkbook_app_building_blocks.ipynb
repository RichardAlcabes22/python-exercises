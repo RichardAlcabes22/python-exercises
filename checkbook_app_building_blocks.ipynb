{
 "cells": [
  {
   "cell_type": "code",
   "execution_count": 1,
   "id": "7ccda13c",
   "metadata": {},
   "outputs": [
    {
     "name": "stdout",
     "output_type": "stream",
     "text": [
      "Welcome to your Python Checkbook!\n",
      "\n",
      "What would you like to do today?\n",
      "\n",
      "1- View Current Balance\n",
      "2- Record a Debit (- $)\n",
      "3- Record a Credit (+ $)\n",
      "4- View Transaction History\n",
      "5- Modify a Transaction\n",
      "6- Exit\n",
      "\n",
      "Enter a Selection:  2\n"
     ]
    }
   ],
   "source": [
    "# 1. (PROD) OPENING GREETING AND USER SELECTION (also import os, csv and csv)\n",
    "\n",
    "import os\n",
    "import csv\n",
    "import time\n",
    "\n",
    "print('Welcome to your Python Checkbook!' + '\\n' +'\\n' +\n",
    "      'What would you like to do today?')\n",
    "print(\n",
    "      '\\n' +\n",
    "      '1- View Current Balance' + '\\n' +\n",
    "      '2- Record a Debit (- $)' + '\\n' +\n",
    "      '3- Record a Credit (+ $)' + '\\n' +\n",
    "      '4- View Transaction History' + '\\n' +\n",
    "      '5- Modify a Transaction' + '\\n' +\n",
    "      '6- Exit\\n'\n",
    ")\n",
    "\n",
    "valid_choice = [1,2,3,4,5,6]\n",
    "num = None\n",
    "while num not in valid_choice:\n",
    "    user_choice = input('Enter a Selection:  ')\n",
    "    try:\n",
    "        num = int(user_choice)\n",
    "    except ValueError:\n",
    "        print('Please Try Again, You Can Do It!')\n",
    "    if num > 6:\n",
    "        print('Please Enter a Single Digit, No Greater than 6:')\n",
    "    # elif elif elif"
   ]
  },
  {
   "cell_type": "code",
   "execution_count": 2,
   "id": "47780d8a",
   "metadata": {},
   "outputs": [
    {
     "name": "stdout",
     "output_type": "stream",
     "text": [
      "accessing database...\n"
     ]
    }
   ],
   "source": [
    "# 2. (PROD) CREATE CHECKBOOK_DATA.CSV IF NOT EXIST\n",
    "\n",
    "import time\n",
    "local = time.gmtime()[0:5]\n",
    "dtg = ''.join([str(i) + '.' for i in local])\n",
    "\n",
    "cols = ['TRANS_ID','CATEGORY','AMOUNT','DESCR','DATETIME','BALANCE']\n",
    "initialization_values = {\n",
    "    'TRANS_ID': 1001,\n",
    "    'CATEGORY': 'Initial Deposit',\n",
    "    'AMOUNT': 0.01,\n",
    "    'DESCR': 'DB Initialization',\n",
    "    'DATETIME': dtg,\n",
    "    'BALANCE': 0.01\n",
    "}\n",
    "\n",
    "if os.path.exists('checkbook_data_test.csv'):\n",
    "    print('accessing database...')\n",
    "    with open('checkbook_data_test.csv','r') as f:\n",
    "        content = csv.DictReader(f,fieldnames=cols)\n",
    "        lines = []\n",
    "        for line in content:\n",
    "            lines.append(line)\n",
    "else:\n",
    "    print('initializing database...')\n",
    "    with open('checkbook_data_test.csv','w') as f:\n",
    "        writer = csv.DictWriter(f,fieldnames=cols)\n",
    "        writer.writeheader()\n",
    "        writer.writerow(initialization_values)"
   ]
  },
  {
   "cell_type": "code",
   "execution_count": null,
   "id": "427d9959",
   "metadata": {},
   "outputs": [],
   "source": [
    "# 3. (TEST) POPULATE CHECKBOOK_DATA WITH INFO CREDITS and DEBITS: note 'a' for APPEND\n",
    "with open('checkbook_data_test.csv','r') as f:\n",
    "        content = csv.DictReader(f,fieldnames=cols)\n",
    "        lines = []\n",
    "        for line in content:\n",
    "            lines.append(line)\n",
    "print('accessing database...')\n",
    "\n",
    "cols = ['TRANS_ID','CATEGORY','AMOUNT','DESCR','DATETIME','BALANCE']\n",
    "user_amount = input('Enter an Amount: ')\n",
    "user_descr = input('Enter a Short Description: ')\n",
    "local = time.gmtime()[0:5]\n",
    "dtg = ''.join([str(i) + '.' for i in local])\n",
    "\n",
    "values = dict(TRANS_ID = (int(lines[-1]['TRANS_ID']) + 1), CATEGORY = 'd', AMOUNT = user_amount, \n",
    "              DESCR = user_descr, DATETIME = dtg, \n",
    "              BALANCE = round((float(lines[-1]['BALANCE']) + float(user_amount)),2)\n",
    "             )\n",
    "\n",
    "with open('checkbook_data_test.csv','a') as f:\n",
    "    writer = csv.DictWriter(f,fieldnames=cols)\n",
    "    writer.writerow(values)\n",
    "    \n",
    "with open('checkbook_data_test.csv','r') as f:\n",
    "        content = csv.DictReader(f,fieldnames=cols)\n",
    "        lines = []\n",
    "        for line in content:\n",
    "            lines.append(line)"
   ]
  },
  {
   "cell_type": "code",
   "execution_count": null,
   "id": "cac7fbab",
   "metadata": {},
   "outputs": [],
   "source": [
    "# (PROD) FUNCTION for CREDITS\n",
    "\n",
    "def add_credit():\n",
    "    print('accessing database...')\n",
    "    cols = ['TRANS_ID','CATEGORY','AMOUNT','DESCR','DATETIME','BALANCE']\n",
    "    with open('checkbook_data_test.csv','r') as f:\n",
    "        content = csv.DictReader(f,fieldnames=cols)\n",
    "        lines = []\n",
    "        for line in content:\n",
    "            lines.append(line)\n",
    "    \n",
    "    \n",
    "    user_amount = input('Enter an Amount: ')\n",
    "    user_descr = input('Enter a Short Description: ')\n",
    "    local = time.gmtime()[0:5]\n",
    "    dtg = ''.join([str(i) + '.' for i in local])\n",
    "    \n",
    "    values = dict(TRANS_ID = (int(lines[-1]['TRANS_ID']) + 1), CATEGORY = 'credit', AMOUNT = user_amount, \n",
    "              DESCR = user_descr, DATETIME = dtg, \n",
    "              BALANCE = round((float(lines[-1]['BALANCE']) + float(user_amount)),2)\n",
    "             )\n",
    "    \n",
    "    with open('checkbook_data_test.csv','a') as f:\n",
    "        writer = csv.DictWriter(f,fieldnames=cols)\n",
    "        writer.writerow(values)\n",
    "    \n",
    "    with open('checkbook_data_test.csv','r') as f:\n",
    "        content = csv.DictReader(f,fieldnames=cols)\n",
    "        lines = []\n",
    "        for line in content:\n",
    "            lines.append(line)\n",
    "    return f'Succesfully added {user_amount} to your account.'"
   ]
  },
  {
   "cell_type": "code",
   "execution_count": null,
   "id": "c68f65ef",
   "metadata": {
    "scrolled": false
   },
   "outputs": [],
   "source": [
    "add_credit()"
   ]
  },
  {
   "cell_type": "code",
   "execution_count": null,
   "id": "cc27137c",
   "metadata": {},
   "outputs": [],
   "source": []
  },
  {
   "cell_type": "code",
   "execution_count": null,
   "id": "b7c2caa4",
   "metadata": {},
   "outputs": [],
   "source": [
    "# (PROD) FUNCTION for DEBITS\n",
    "\n",
    "def subtract_debit():\n",
    "    print('accessing database...')\n",
    "    cols = ['TRANS_ID','CATEGORY','AMOUNT','DESCR','DATETIME','BALANCE']\n",
    "    with open('checkbook_data_test.csv','r') as f:\n",
    "        content = csv.DictReader(f,fieldnames=cols)\n",
    "        lines = []\n",
    "        for line in content:\n",
    "            lines.append(line)\n",
    "    \n",
    "    user_amount = input('Enter an Amount: ')\n",
    "    user_descr = input('Enter a Short Description: ')\n",
    "    local = time.gmtime()[0:5]\n",
    "    dtg = ''.join([str(i) + '.' for i in local])\n",
    "    \n",
    "    values = dict(TRANS_ID = (int(lines[-1]['TRANS_ID']) + 1), CATEGORY = 'debit', AMOUNT = user_amount, \n",
    "              DESCR = user_descr, DATETIME = dtg, \n",
    "              BALANCE = round((float(lines[-1]['BALANCE']) - float(user_amount)),2)\n",
    "             )\n",
    "    \n",
    "    with open('checkbook_data_test.csv','a') as f:\n",
    "        writer = csv.DictWriter(f,fieldnames=cols)\n",
    "        writer.writerow(values)\n",
    "    \n",
    "    with open('checkbook_data_test.csv','r') as f:\n",
    "        content = csv.DictReader(f,fieldnames=cols)\n",
    "        lines = []\n",
    "        for line in content:\n",
    "            lines.append(line)\n",
    "    return f'Succesfully subtracted {user_amount} from your account.'"
   ]
  },
  {
   "cell_type": "code",
   "execution_count": null,
   "id": "8d2e9a41",
   "metadata": {
    "scrolled": true
   },
   "outputs": [],
   "source": [
    "subtract_debit()"
   ]
  },
  {
   "cell_type": "code",
   "execution_count": null,
   "id": "8220ef7b",
   "metadata": {},
   "outputs": [],
   "source": []
  },
  {
   "cell_type": "code",
   "execution_count": null,
   "id": "3e669c31",
   "metadata": {},
   "outputs": [],
   "source": []
  },
  {
   "cell_type": "code",
   "execution_count": 3,
   "id": "655cab87",
   "metadata": {},
   "outputs": [],
   "source": [
    "# (PROD) FUNCTION for CURRENT BALANCE\n",
    "def curr_bal():\n",
    "    with open('checkbook_data_test.csv','r') as f:\n",
    "        content = csv.DictReader(f,fieldnames=cols)\n",
    "        lines = []\n",
    "        for line in content:\n",
    "            lines.append(line)\n",
    "    print('accessing database...')\n",
    "    return lines[-1]['BALANCE']"
   ]
  },
  {
   "cell_type": "code",
   "execution_count": 4,
   "id": "aa2c5342",
   "metadata": {},
   "outputs": [
    {
     "name": "stdout",
     "output_type": "stream",
     "text": [
      "accessing database...\n"
     ]
    },
    {
     "data": {
      "text/plain": [
       "'524.71'"
      ]
     },
     "execution_count": 4,
     "metadata": {},
     "output_type": "execute_result"
    }
   ],
   "source": [
    "curr_bal()"
   ]
  },
  {
   "cell_type": "code",
   "execution_count": null,
   "id": "1fcee9f7",
   "metadata": {
    "scrolled": true
   },
   "outputs": [],
   "source": [
    "# Access current balance\n",
    "\n",
    "lines[-1]['BALANCE']"
   ]
  },
  {
   "cell_type": "code",
   "execution_count": null,
   "id": "fb802c7d",
   "metadata": {},
   "outputs": [],
   "source": [
    "# (PROD) FUNCTION for ALL TRANSACTIONS\n",
    "def all_trans():\n",
    "    with open('checkbook_data_test.csv','r') as f:\n",
    "        content = csv.DictReader(f,fieldnames=cols)\n",
    "        lines = []\n",
    "        for line in content:\n",
    "            lines.append(line)\n",
    "    print('accessing database...')\n",
    "    return lines[1:]"
   ]
  },
  {
   "cell_type": "code",
   "execution_count": null,
   "id": "0867df98",
   "metadata": {},
   "outputs": [],
   "source": [
    "all_trans()"
   ]
  },
  {
   "cell_type": "raw",
   "id": "4de37002",
   "metadata": {},
   "source": []
  },
  {
   "cell_type": "code",
   "execution_count": null,
   "id": "557483d1",
   "metadata": {},
   "outputs": [],
   "source": []
  },
  {
   "cell_type": "code",
   "execution_count": null,
   "id": "95dcbe1d",
   "metadata": {},
   "outputs": [],
   "source": [
    "#Access all transactions\n",
    "lines[1:]"
   ]
  },
  {
   "cell_type": "code",
   "execution_count": null,
   "id": "7eb5c3f3",
   "metadata": {},
   "outputs": [],
   "source": [
    "# base exist check for test .csv\n",
    "if os.path.exists(\n",
    "    'checkbook_data_test.csv'):\n",
    "    print('gtg')\n",
    "else:\n",
    "    print('no bueno')\n",
    "c = os.path.exists('checkbook_data_test.csv')\n",
    "c"
   ]
  },
  {
   "cell_type": "code",
   "execution_count": null,
   "id": "9812ecc5",
   "metadata": {},
   "outputs": [],
   "source": [
    "# time work\n",
    "import time\n",
    "local = time.gmtime()[0:6]\n",
    "local\n",
    "dtg = ''.join([str(i) + '.' for i in local])\n",
    "dtg"
   ]
  },
  {
   "cell_type": "code",
   "execution_count": null,
   "id": "419a74ba",
   "metadata": {},
   "outputs": [],
   "source": [
    "# INITIALIZE data.csv\n",
    "import time\n",
    "local = time.gmtime()[0:6]\n",
    "dtg = ''.join([str(i) + '.' for i in local])\n",
    "cols = ['CATEGORY','AMOUNT','DESCR','DATETIME','BALANCE']\n",
    "\n",
    "if os.path.exists(\n",
    "    'checkbook_data_test.csv'):\n",
    "    print('gtg')\n",
    "    with open('checkbook_data_test.csv','r') as f:\n",
    "        pass # or continue?\n",
    "else:\n",
    "    print('Let us first initialize the database...\\n')\n",
    "    with open('checkbook_data_test.csv','w') as f:\n",
    "        writer = csv.DictWriter(f,fieldnames=cols)\n",
    "        writer.writeheader()\n",
    "        writer.writerow(\n",
    "            {'CATEGORY':'Init',\n",
    "             'AMOUNT': 0.00,\n",
    "             'DESCR':'DB Initialize',\n",
    "             'DATETIME':dtg,\n",
    "             'BALANCE': 0.00\n",
    "            }\n",
    "        \n",
    "                        )\n",
    "    "
   ]
  },
  {
   "cell_type": "code",
   "execution_count": null,
   "id": "b73e7b60",
   "metadata": {},
   "outputs": [],
   "source": [
    "cols = ['CATEGORY','AMOUNT','DESCR','DATETIME','BALANCE']\n",
    "initialization_values = {\n",
    "    'CATEGORY':'Init',\n",
    "    'AMOUNT': 0.00,\n",
    "    'DESCR':'DB Initialize',\n",
    "    'DATETIME':''\n",
    "    'BALANCE': 0.00\n",
    "}\n",
    "# if os.path.exists(\n",
    "#     'checkbook_data_test.csv'):\n",
    "#     print('gtg')\n",
    "#     with open('checkbook_data_test.csv','r') as f:\n",
    "#         pass # or continue?\n",
    "# else:\n",
    "#     print('Let us first initialize the database...\\n')\n",
    "with open('checkbook_data_test.csv','w') as f:\n",
    "    writer = csv.DictWriter(f,fieldnames=cols)\n",
    "    writer.writeheader()\n",
    "    "
   ]
  },
  {
   "cell_type": "code",
   "execution_count": null,
   "id": "50148652",
   "metadata": {},
   "outputs": [],
   "source": [
    "with open('checkbook_data_test.csv','r') as f:\n",
    "    content = csv.DictReader(f, fieldnames=cols)\n",
    "    lines = []\n",
    "    for line in content:\n",
    "        lines.append(line)\n",
    "lines"
   ]
  },
  {
   "cell_type": "code",
   "execution_count": null,
   "id": "646288a6",
   "metadata": {},
   "outputs": [],
   "source": [
    "####################\n",
    "\n",
    "valid_choice = [1,2,3,4,5,6]\n",
    "num = None\n",
    "while num not in valid_choice:\n",
    "    user_choice = input('Enter a Selection:  ')\n",
    "    try:\n",
    "        num = int(user_choice)\n",
    "        print('gtg')\n",
    "    except ValueError:\n",
    "        print('nope')\n",
    "    "
   ]
  }
 ],
 "metadata": {
  "kernelspec": {
   "display_name": "Python 3 (ipykernel)",
   "language": "python",
   "name": "python3"
  },
  "language_info": {
   "codemirror_mode": {
    "name": "ipython",
    "version": 3
   },
   "file_extension": ".py",
   "mimetype": "text/x-python",
   "name": "python",
   "nbconvert_exporter": "python",
   "pygments_lexer": "ipython3",
   "version": "3.9.13"
  }
 },
 "nbformat": 4,
 "nbformat_minor": 5
}
