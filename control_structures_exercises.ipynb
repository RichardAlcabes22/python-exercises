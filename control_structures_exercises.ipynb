{
 "cells": [
  {
   "cell_type": "code",
   "execution_count": null,
   "id": "d0b25095",
   "metadata": {},
   "outputs": [],
   "source": [
    "# 1a day of week prompt"
   ]
  },
  {
   "cell_type": "code",
   "execution_count": 5,
   "id": "1b77594e",
   "metadata": {},
   "outputs": [
    {
     "name": "stdout",
     "output_type": "stream",
     "text": [
      "Choose a day of the week: use Capitalization and full spelling: Tues\n",
      "Not Monday\n"
     ]
    }
   ],
   "source": [
    "user_dow = input('Choose a day of the week: use Capitalization and full spelling: ')\n",
    "if user_dow == 'Monday':\n",
    "    print(user_dow)\n",
    "else:\n",
    "    print('Not Monday')"
   ]
  },
  {
   "cell_type": "code",
   "execution_count": 7,
   "id": "652f79a1",
   "metadata": {},
   "outputs": [
    {
     "name": "stdout",
     "output_type": "stream",
     "text": [
      "Choose a day of the week: use Capitalization and full spelling: Sat\n",
      "Must be a Weekend\n"
     ]
    }
   ],
   "source": [
    "# 1b print weekday or weekend\n",
    "\n",
    "user_dow = input('Choose a day of the week: use Capitalization and full spelling: ')\n",
    "if user_dow in  ['Monday','Tuesday','Wednesday','Thursday','Friday']:\n",
    "    print(f'{user_dow} is a Weekday')\n",
    "else:\n",
    "    print('Must be a Weekend')"
   ]
  },
  {
   "cell_type": "code",
   "execution_count": 44,
   "id": "03c58553",
   "metadata": {},
   "outputs": [
    {
     "name": "stdout",
     "output_type": "stream",
     "text": [
      "Total Hours?41\n",
      "Hourly Rate?2\n",
      "83.0\n"
     ]
    }
   ],
   "source": [
    "#c. create variables calculate weekly paycheck\n",
    "total_hours = int(input('Total Hours?'))\n",
    "hourly_rate = int(input('Hourly Rate?'))\n",
    "reg_pay = total_hours * hourly_rate\n",
    "if total_hours <= 40:\n",
    "    print(reg_pay)\n",
    "else:\n",
    "    print((reg_pay -(hourly_rate)) + ((total_hours - 40) * (hourly_rate * 1.5))) "
   ]
  },
  {
   "cell_type": "code",
   "execution_count": 42,
   "id": "489756d7",
   "metadata": {},
   "outputs": [
    {
     "data": {
      "text/plain": [
       "82"
      ]
     },
     "execution_count": 42,
     "metadata": {},
     "output_type": "execute_result"
    }
   ],
   "source": [
    "reg_pay"
   ]
  },
  {
   "cell_type": "code",
   "execution_count": null,
   "id": "7e50c08a",
   "metadata": {},
   "outputs": [],
   "source": []
  },
  {
   "cell_type": "code",
   "execution_count": 36,
   "id": "e2941acf",
   "metadata": {},
   "outputs": [
    {
     "name": "stdout",
     "output_type": "stream",
     "text": [
      "5\n",
      "6\n",
      "7\n",
      "8\n",
      "9\n",
      "10\n",
      "11\n",
      "12\n",
      "13\n",
      "14\n",
      "15\n"
     ]
    }
   ],
   "source": [
    "# 2a Loop basics\n",
    "\n",
    "i = 5\n",
    "while i <= 15:\n",
    "    print(i)\n",
    "    i += 1"
   ]
  },
  {
   "cell_type": "code",
   "execution_count": null,
   "id": "809aad8d",
   "metadata": {},
   "outputs": [],
   "source": [
    "# count by 2's from 0 to 100 USE WHILE LOOP!!!\n",
    "\n",
    "evens = list(range(0,102,2))\n",
    "for i in evens:\n",
    "    print(f'{i}\\n')"
   ]
  },
  {
   "cell_type": "code",
   "execution_count": null,
   "id": "a215df62",
   "metadata": {},
   "outputs": [],
   "source": [
    "# now use a WHILE LOOP\n",
    "i = 0\n",
    "while i <= 100:\n",
    "    print(i)\n",
    "    i += 2\n"
   ]
  },
  {
   "cell_type": "code",
   "execution_count": 66,
   "id": "70b56008",
   "metadata": {},
   "outputs": [
    {
     "name": "stdout",
     "output_type": "stream",
     "text": [
      "100\n",
      "95\n",
      "90\n",
      "85\n",
      "80\n",
      "75\n",
      "70\n",
      "65\n",
      "60\n",
      "55\n",
      "50\n",
      "45\n",
      "40\n",
      "35\n",
      "30\n",
      "25\n",
      "20\n",
      "15\n",
      "10\n",
      "5\n",
      "0\n",
      "-5\n",
      "-10\n"
     ]
    }
   ],
   "source": [
    "# while loop from 100 to -10 by 5s\n",
    "i = 100\n",
    "while i >= -10:\n",
    "    print(i)\n",
    "    i -= 5"
   ]
  },
  {
   "cell_type": "code",
   "execution_count": 67,
   "id": "d9e3524c",
   "metadata": {},
   "outputs": [
    {
     "name": "stdout",
     "output_type": "stream",
     "text": [
      "2\n",
      "4\n",
      "16\n",
      "256\n",
      "65536\n"
     ]
    }
   ],
   "source": [
    "# start at 2 and print number ** 2 while number < 1M\n",
    "i = 2\n",
    "while i < 1000000:\n",
    "    print(i)\n",
    "    i = i ** 2\n"
   ]
  },
  {
   "cell_type": "code",
   "execution_count": 69,
   "id": "4b55bcd1",
   "metadata": {},
   "outputs": [
    {
     "name": "stdout",
     "output_type": "stream",
     "text": [
      "100\n",
      "95\n",
      "90\n",
      "85\n",
      "80\n",
      "75\n",
      "70\n",
      "65\n",
      "60\n",
      "55\n",
      "50\n",
      "45\n",
      "40\n",
      "35\n",
      "30\n",
      "25\n",
      "20\n",
      "15\n",
      "10\n",
      "5\n"
     ]
    }
   ],
   "source": [
    "# use print in loop to create 100 backwards to 5 by 5s\n",
    "i = 100\n",
    "while i >= 5:\n",
    "    print(i)\n",
    "    i -= 5"
   ]
  },
  {
   "cell_type": "code",
   "execution_count": 71,
   "id": "afac86aa",
   "metadata": {},
   "outputs": [
    {
     "name": "stdout",
     "output_type": "stream",
     "text": [
      "Choose a 1-digit number: 2\n",
      "2 x 1 = 2\n",
      "2 x 2 = 4\n",
      "2 x 3 = 6\n",
      "2 x 4 = 8\n",
      "2 x 5 = 10\n",
      "2 x 6 = 12\n",
      "2 x 7 = 14\n",
      "2 x 8 = 16\n",
      "2 x 9 = 18\n",
      "2 x 10 = 20\n"
     ]
    }
   ],
   "source": [
    "# 2bi FOR LOOPS user number transformed to mult table up to 10\n",
    "\n",
    "num = int(input('Choose a 1-digit number: '))\n",
    "mult = list(range(1,11))\n",
    "\n",
    "for i in mult:\n",
    "    print(f'{num} x {i} = {num * i}')"
   ]
  },
  {
   "cell_type": "code",
   "execution_count": 76,
   "id": "379fe22a",
   "metadata": {},
   "outputs": [
    {
     "name": "stdout",
     "output_type": "stream",
     "text": [
      "1\n",
      "22\n",
      "333\n",
      "4444\n",
      "55555\n",
      "666666\n",
      "7777777\n",
      "88888888\n",
      "999999999\n"
     ]
    }
   ],
   "source": [
    "# 2bii for loop for output one 1s up to nine 9s\n",
    "digit = list(range(1,10))\n",
    "for i in digit:\n",
    "    print(str(i) * i)"
   ]
  },
  {
   "cell_type": "code",
   "execution_count": 105,
   "id": "b8d2f962",
   "metadata": {},
   "outputs": [
    {
     "name": "stdout",
     "output_type": "stream",
     "text": [
      "Choose a POSITIVE Integer no greater than 20: 22\n",
      "pick another integer\n"
     ]
    }
   ],
   "source": [
    "#2ci break and continue positive int-print backwards list from input to 1\n",
    "\n",
    "user_int = int(input('Choose a POSITIVE Integer no greater than 20: '))\n",
    "if user_int > 0 and user_int <= 20:\n",
    "    while user_int >= 1:\n",
    "        print(user_int)\n",
    "        user_int -= 1\n",
    "else:\n",
    "    print('pick another integer')"
   ]
  },
  {
   "cell_type": "code",
   "execution_count": 149,
   "id": "d710b3f5",
   "metadata": {},
   "outputs": [
    {
     "name": "stdout",
     "output_type": "stream",
     "text": [
      "Choose a POSITIVE INTEGER less than 21: rr\n",
      "read again and enter an integer\n",
      "Choose a POSITIVE INTEGER less than 21: rrrr\n",
      "read again and enter an integer\n",
      "Choose a POSITIVE INTEGER less than 21: wefdewf\n",
      "read again and enter an integer\n",
      "Choose a POSITIVE INTEGER less than 21: 20\n",
      "0\n",
      "1\n",
      "2\n",
      "3\n",
      "4\n",
      "5\n",
      "6\n",
      "7\n",
      "8\n",
      "9\n",
      "10\n",
      "11\n",
      "12\n",
      "13\n",
      "14\n",
      "15\n",
      "16\n",
      "17\n",
      "18\n",
      "19\n",
      "20\n"
     ]
    }
   ],
   "source": [
    "# 2 c ii user inut Positive number and loop that counts from 0 to user input\n",
    "\n",
    "user_str = input('Choose a POSITIVE INTEGER less than 21: ')\n",
    "while user_str.isdigit() == False:\n",
    "    print('read again and enter an integer')\n",
    "    user_str = input('Choose a POSITIVE INTEGER less than 21: ')\n",
    "if int(user_str) > 0 and int(user_str) <= 20:\n",
    "    for i in range(0,int(user_str) + 1):\n",
    "        print(i)\n",
    "else:\n",
    "    print('read the prompt carefully')"
   ]
  },
  {
   "cell_type": "code",
   "execution_count": 189,
   "id": "adea54d4",
   "metadata": {
    "scrolled": true
   },
   "outputs": [
    {
     "name": "stdout",
     "output_type": "stream",
     "text": [
      "Choose an ODD number between 1 and 50: 33\n",
      "Here is an odd number: 1\n",
      "Here is an odd number: 3\n",
      "Here is an odd number: 5\n",
      "Here is an odd number: 7\n",
      "Here is an odd number: 9\n",
      "Here is an odd number: 11\n",
      "Here is an odd number: 13\n",
      "Here is an odd number: 15\n",
      "Here is an odd number: 17\n",
      "Here is an odd number: 19\n",
      "Here is an odd number: 21\n",
      "Here is an odd number: 23\n",
      "Here is an odd number: 25\n",
      "Here is an odd number: 27\n",
      "Here is an odd number: 29\n",
      "Here is an odd number: 31\n",
      "Yikes! Skipping number: 33\n",
      "Here is an odd number: 35\n",
      "Here is an odd number: 37\n",
      "Here is an odd number: 39\n",
      "Here is an odd number: 41\n",
      "Here is an odd number: 43\n",
      "Here is an odd number: 45\n",
      "Here is an odd number: 47\n",
      "Here is an odd number: 49\n"
     ]
    }
   ],
   "source": [
    "user_input = input('Choose an ODD number between 1 and 50: ')\n",
    "while user_input.isdigit() == False:\n",
    "    print('reading is fundamental...please try again')\n",
    "    user_input = input('Choose an ODD number between 1 and 50: ')\n",
    "if int(user_input) >= 1 and int(user_input) < 50 and int(user_input) % 2 == 1:\n",
    "    num_list = list(range(1,50,2))\n",
    "    for i in num_list:\n",
    "        if i == int(user_input):\n",
    "            print (f'Yikes! Skipping number: {i}')\n",
    "        else:\n",
    "            print(f'Here is an odd number: {i}')\n",
    "else:\n",
    "    print('whut???')\n",
    "    user_input = input('Choose an ODD number between 1 and 50: ')"
   ]
  },
  {
   "cell_type": "code",
   "execution_count": 184,
   "id": "c902d91e",
   "metadata": {
    "scrolled": true
   },
   "outputs": [
    {
     "data": {
      "text/plain": [
       "[1,\n",
       " 3,\n",
       " 5,\n",
       " 7,\n",
       " 9,\n",
       " 11,\n",
       " 13,\n",
       " 15,\n",
       " 17,\n",
       " 19,\n",
       " 21,\n",
       " 23,\n",
       " 25,\n",
       " 27,\n",
       " 29,\n",
       " 31,\n",
       " 33,\n",
       " 35,\n",
       " 37,\n",
       " 39,\n",
       " 41,\n",
       " 43,\n",
       " 45,\n",
       " 47,\n",
       " 49]"
      ]
     },
     "execution_count": 184,
     "metadata": {},
     "output_type": "execute_result"
    }
   ],
   "source": [
    "num_list2 = list(range(1,50,2))\n",
    "num_list2"
   ]
  },
  {
   "cell_type": "code",
   "execution_count": 187,
   "id": "35870d1b",
   "metadata": {
    "scrolled": true
   },
   "outputs": [
    {
     "name": "stdout",
     "output_type": "stream",
     "text": [
      "1\n",
      "3\n",
      "5\n",
      "7\n",
      "9\n",
      "11\n",
      "13\n",
      "15\n",
      "17\n",
      "19\n",
      "21\n",
      "23\n",
      "25\n",
      "27\n",
      "29\n",
      "31\n",
      "33\n",
      "35\n",
      "37\n",
      "39\n",
      "41\n",
      "43\n",
      "45\n",
      "47\n",
      "49\n"
     ]
    }
   ],
   "source": [
    "num_list2 = list(range(1,50,2))\n",
    "num_list2\n",
    "for i in num_list2:\n",
    "    print(i)"
   ]
  },
  {
   "cell_type": "code",
   "execution_count": null,
   "id": "9f05cf47",
   "metadata": {},
   "outputs": [],
   "source": [
    "fizz_list = list(range(1,101))\n",
    "fizz_list"
   ]
  },
  {
   "cell_type": "code",
   "execution_count": 194,
   "id": "dad19809",
   "metadata": {},
   "outputs": [
    {
     "name": "stdout",
     "output_type": "stream",
     "text": [
      "1\n",
      "2\n",
      "FIZZ\n",
      "4\n",
      "BUZZ\n",
      "FIZZ\n",
      "7\n",
      "8\n",
      "FIZZ\n",
      "BUZZ\n",
      "11\n",
      "FIZZ\n",
      "13\n",
      "14\n",
      "FIZZBUZZ\n",
      "16\n",
      "17\n",
      "FIZZ\n",
      "19\n",
      "BUZZ\n",
      "FIZZ\n",
      "22\n",
      "23\n",
      "FIZZ\n",
      "BUZZ\n",
      "26\n",
      "FIZZ\n",
      "28\n",
      "29\n",
      "FIZZBUZZ\n",
      "31\n",
      "32\n",
      "FIZZ\n",
      "34\n",
      "BUZZ\n",
      "FIZZ\n",
      "37\n",
      "38\n",
      "FIZZ\n",
      "BUZZ\n",
      "41\n",
      "FIZZ\n",
      "43\n",
      "44\n",
      "FIZZBUZZ\n",
      "46\n",
      "47\n",
      "FIZZ\n",
      "49\n",
      "BUZZ\n",
      "FIZZ\n",
      "52\n",
      "53\n",
      "FIZZ\n",
      "BUZZ\n",
      "56\n",
      "FIZZ\n",
      "58\n",
      "59\n",
      "FIZZBUZZ\n",
      "61\n",
      "62\n",
      "FIZZ\n",
      "64\n",
      "BUZZ\n",
      "FIZZ\n",
      "67\n",
      "68\n",
      "FIZZ\n",
      "BUZZ\n",
      "71\n",
      "FIZZ\n",
      "73\n",
      "74\n",
      "FIZZBUZZ\n",
      "76\n",
      "77\n",
      "FIZZ\n",
      "79\n",
      "BUZZ\n",
      "FIZZ\n",
      "82\n",
      "83\n",
      "FIZZ\n",
      "BUZZ\n",
      "86\n",
      "FIZZ\n",
      "88\n",
      "89\n",
      "FIZZBUZZ\n",
      "91\n",
      "92\n",
      "FIZZ\n",
      "94\n",
      "BUZZ\n",
      "FIZZ\n",
      "97\n",
      "98\n",
      "FIZZ\n",
      "BUZZ\n"
     ]
    }
   ],
   "source": [
    "# 3 FIZZBUZZ print 1 to 100 FIZZ 3 BUZZ 5 FIZZBUZZ 5 and 3\n",
    "\n",
    "fizz_list = list(range(1,101))\n",
    "\n",
    "for i in fizz_list:\n",
    "    if i % 3 == 0 and i % 5 == 0:\n",
    "        print('FIZZBUZZ')\n",
    "    elif i % 3 == 0:\n",
    "        print('FIZZ')\n",
    "    elif i % 5 == 0:\n",
    "        print('BUZZ')\n",
    "    else:\n",
    "        print(i)"
   ]
  },
  {
   "cell_type": "code",
   "execution_count": 197,
   "id": "a9ec75be",
   "metadata": {},
   "outputs": [
    {
     "name": "stdout",
     "output_type": "stream",
     "text": [
      "Collecting PrettyTable\n",
      "  Downloading prettytable-3.6.0-py3-none-any.whl (27 kB)\n",
      "Requirement already satisfied: wcwidth in /opt/homebrew/anaconda3/lib/python3.9/site-packages (from PrettyTable) (0.2.5)\n",
      "Installing collected packages: PrettyTable\n",
      "Successfully installed PrettyTable-3.6.0\n",
      "Note: you may need to restart the kernel to use updated packages.\n"
     ]
    }
   ],
   "source": [
    "pip install PrettyTable"
   ]
  },
  {
   "cell_type": "code",
   "execution_count": null,
   "id": "289d23b0",
   "metadata": {},
   "outputs": [],
   "source": [
    "# 4 table of powers\n",
    "from prettytable import PrettyTable as pt\n",
    "go_again3 = 'Y'\n",
    "while go_again3 != 'N':\n",
    "    user_input3 = input('Select an integer:  ')\n",
    "    user_num = int(user_input3)\n",
    "    power_table = pt()\n",
    "    user_list = list(range(1, user_num + 1))\n",
    "    squared = [i ** 2 for i in user_list]\n",
    "    cubed = [i ** 3 for i in user_list]\n",
    "\n",
    "    # now populate the table with squared and cubed lists\n",
    "    power_table.add_column('INT',user_list)\n",
    "    power_table.add_column('SQUARED',squared)\n",
    "    power_table.add_column('CUBED',cubed)\n",
    "\n",
    "    print(power_table)\n",
    "    go_again3 = input('Shall we print a different table Y/N?')\n",
    "    if go_again3 == 'N':\n",
    "        print('Have a great day')\n",
    "        break"
   ]
  },
  {
   "cell_type": "code",
   "execution_count": 252,
   "id": "56585923",
   "metadata": {},
   "outputs": [
    {
     "name": "stdout",
     "output_type": "stream",
     "text": [
      "Enter numerical grade: 93\n",
      "A\n",
      "Another grade Y/N?N\n",
      "Have a great day\n"
     ]
    }
   ],
   "source": [
    "#5 convert number grades into letters\n",
    "while True:\n",
    "    user_input = input('Enter numerical grade: ')\n",
    "    user_grade = int(user_input)\n",
    "\n",
    "    if user_grade >= 88:\n",
    "        print('A')\n",
    "    elif user_grade >= 80:\n",
    "        print('B')\n",
    "    elif user_grade >= 67:\n",
    "        print('C')\n",
    "    elif user_grade >= 60:\n",
    "        print('D')\n",
    "    else:\n",
    "        print('F')         \n",
    "    go_again = input('Another grade Y/N?')\n",
    "    if go_again == 'N':\n",
    "        print('Have a great day')\n",
    "        break"
   ]
  },
  {
   "cell_type": "code",
   "execution_count": 262,
   "id": "0f154a36",
   "metadata": {},
   "outputs": [
    {
     "name": "stdout",
     "output_type": "stream",
     "text": [
      "Genre: Fiction\n",
      "The Fountainhead\n",
      "Fahrenheit 451\n",
      "Brave New World\n",
      "1984\n"
     ]
    }
   ],
   "source": [
    "#6 list of dictionaries with book info\n",
    "d_list = [dict(Title = 'The Fountainhead', Author = 'Ayn Rand', Genre = 'Fiction'),\n",
    "         dict(Title = 'Fahrenheit 451', Author = 'Ray Bradbury', Genre = 'Fiction'),\n",
    "         dict(Title = 'Brave New World', Author = 'Aldous Huxley', Genre = 'Fiction'),\n",
    "         dict(Title = '1984', Author = 'George Orwell', Genre = 'Fiction')]\n",
    "user_genre = input('Genre: ')\n",
    "for book in d_list:\n",
    "    if book['Genre'] == user_genre:\n",
    "        print(book['Title'])"
   ]
  },
  {
   "cell_type": "code",
   "execution_count": 261,
   "id": "2fad1c5a",
   "metadata": {},
   "outputs": [
    {
     "data": {
      "text/plain": [
       "[{'Title': 'The Fountainhead', 'Author': 'Ayn Rand', 'Genre': 'Fiction'},\n",
       " {'Title': 'Fahrenheit 451', 'Author': 'Ray Bradbury', 'Genre': 'Fiction'},\n",
       " {'Title': 'Brave New World', 'Author': 'Aldous Huxley', 'Genre': 'Fiction'},\n",
       " {'Title': '1984', 'Author': 'George Orwell', 'Genre': 'Fiction'}]"
      ]
     },
     "execution_count": 261,
     "metadata": {},
     "output_type": "execute_result"
    }
   ],
   "source": [
    "d_list"
   ]
  }
 ],
 "metadata": {
  "kernelspec": {
   "display_name": "Python 3 (ipykernel)",
   "language": "python",
   "name": "python3"
  },
  "language_info": {
   "codemirror_mode": {
    "name": "ipython",
    "version": 3
   },
   "file_extension": ".py",
   "mimetype": "text/x-python",
   "name": "python",
   "nbconvert_exporter": "python",
   "pygments_lexer": "ipython3",
   "version": "3.9.13"
  }
 },
 "nbformat": 4,
 "nbformat_minor": 5
}
