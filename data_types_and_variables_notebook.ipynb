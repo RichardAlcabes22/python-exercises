{
 "cells": [
  {
   "cell_type": "code",
   "execution_count": null,
   "id": "4a5b6dc2",
   "metadata": {},
   "outputs": [],
   "source": [
    "# 1\n",
    "99.9 # float\n",
    "\"False\" #string\n",
    "False #Bool\n",
    "'0' #string\n",
    "0 #int\n",
    "True # Bool\n",
    "'True' #String\n",
    "[{}] # a list with one empty dict\n",
    "{'a':[]} # a dictionary with one key-value pair: key = 'a' value = empty list"
   ]
  },
  {
   "cell_type": "code",
   "execution_count": null,
   "id": "190efac6",
   "metadata": {},
   "outputs": [],
   "source": [
    "# 2\n",
    "# term or phrase for search - STR\n",
    "# user logged in? - Bool\n",
    "# discount amount for shopping cart - Float\n",
    "# Coupon Code valid? - Bool\n",
    "# email address typed into field - STR\n",
    "# Price of product - Float\n",
    "# email addresses collected from reg form - List or dictonary if they have associated keys\n",
    "# info about applicants - DICT"
   ]
  },
  {
   "cell_type": "code",
   "execution_count": null,
   "id": "c902c4c2",
   "metadata": {},
   "outputs": [],
   "source": [
    "#3\n",
    "# '1' + 2 - error\n",
    "# 6 % 4 - 2\n",
    "# type(6 % 4) - int\n",
    "# type(type(6 % 4)) - <class 'type'>\n",
    "# '3 + 4 is ' + 3 + 4 - \"3 + 4 is 7\" string nope--concat error differing data types\n",
    "# 0 < 0  - Bool False\n",
    "# 'False' == False -Bool False\n",
    "# True ==  'True' -Bool False\n",
    "# 5 >= -5 -Bool True\n",
    "# True or \"42\" - Bool True\n",
    "# 6 % 5 - 1\n",
    "# 5 < 4 and 1 == 1 -Bool False\n",
    "# 'codeup' == 'codeup' and 'codeup' == 'Codeup' -Bool False\n",
    "# 4 >= 0 and 1 != '1'  -Bool True\n",
    "# 6 % 3 == 0 - Bool True\n",
    "# 5 % 2 != 0 -Bool True\n",
    "# [1] + 2 - concat? it tried to but throw error\n",
    "# [1] * 2 - print the list item 2 times?- repeated the list item WITHIN the list and \n",
    "            #returned list with 2 elements\n",
    "# [1] + [2] - concat lists into one list? y [1,2]\n",
    "# [1] * [2] - ?? error cannot multiply list types\n",
    "# [] + [] == [] -Bool True empty list plus empty list equals empty list\n",
    "# {} + {} -no clue with empty dictionaries: error unsupported '+' for dict-type"
   ]
  },
  {
   "cell_type": "code",
   "execution_count": null,
   "id": "d126a204",
   "metadata": {},
   "outputs": [],
   "source": [
    "# 4 Created data_types_and_variables.py"
   ]
  }
 ],
 "metadata": {
  "kernelspec": {
   "display_name": "Python 3 (ipykernel)",
   "language": "python",
   "name": "python3"
  },
  "language_info": {
   "codemirror_mode": {
    "name": "ipython",
    "version": 3
   },
   "file_extension": ".py",
   "mimetype": "text/x-python",
   "name": "python",
   "nbconvert_exporter": "python",
   "pygments_lexer": "ipython3",
   "version": "3.9.13"
  }
 },
 "nbformat": 4,
 "nbformat_minor": 5
}
