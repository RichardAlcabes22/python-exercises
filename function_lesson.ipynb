{
 "cells": [
  {
   "cell_type": "code",
   "execution_count": 1,
   "id": "b5e2e503",
   "metadata": {},
   "outputs": [
    {
     "data": {
      "text/plain": [
       "11"
      ]
     },
     "execution_count": 1,
     "metadata": {},
     "output_type": "execute_result"
    }
   ],
   "source": [
    "len('Hello Oneil')"
   ]
  },
  {
   "cell_type": "code",
   "execution_count": 2,
   "id": "31e3ce83",
   "metadata": {},
   "outputs": [
    {
     "data": {
      "text/plain": [
       "<function len(obj, /)>"
      ]
     },
     "execution_count": 2,
     "metadata": {},
     "output_type": "execute_result"
    }
   ],
   "source": [
    "len"
   ]
  },
  {
   "cell_type": "code",
   "execution_count": 3,
   "id": "16af245a",
   "metadata": {},
   "outputs": [
    {
     "ename": "TypeError",
     "evalue": "len() takes exactly one argument (0 given)",
     "output_type": "error",
     "traceback": [
      "\u001b[0;31m---------------------------------------------------------------------------\u001b[0m",
      "\u001b[0;31mTypeError\u001b[0m                                 Traceback (most recent call last)",
      "Input \u001b[0;32mIn [3]\u001b[0m, in \u001b[0;36m<cell line: 1>\u001b[0;34m()\u001b[0m\n\u001b[0;32m----> 1\u001b[0m \u001b[38;5;28;43mlen\u001b[39;49m\u001b[43m(\u001b[49m\u001b[43m)\u001b[49m\n",
      "\u001b[0;31mTypeError\u001b[0m: len() takes exactly one argument (0 given)"
     ]
    }
   ],
   "source": [
    "len()"
   ]
  },
  {
   "cell_type": "code",
   "execution_count": 4,
   "id": "da00689c",
   "metadata": {},
   "outputs": [],
   "source": [
    "len? # show docstring help"
   ]
  },
  {
   "cell_type": "code",
   "execution_count": 5,
   "id": "749bd0c4",
   "metadata": {},
   "outputs": [],
   "source": [
    "str.lower? # .lower is a method that belongs to another entity, in this case, a string"
   ]
  },
  {
   "cell_type": "code",
   "execution_count": 11,
   "id": "4ed66c31",
   "metadata": {},
   "outputs": [],
   "source": [
    "def my_oneil_function():\n",
    "    '''\n",
    "    THIS IS WHERE YOU DO THE DOCSTRING THING...DO IT FOR EACH FUNCTION!\n",
    "    \n",
    "    Ths will print a greeting\n",
    "    '''\n",
    "    print('Hello my class!')\n",
    "    x= 7\n",
    "    "
   ]
  },
  {
   "cell_type": "code",
   "execution_count": 7,
   "id": "f736c43a",
   "metadata": {},
   "outputs": [
    {
     "name": "stdout",
     "output_type": "stream",
     "text": [
      "Hello my class!\n"
     ]
    }
   ],
   "source": [
    "# now invoke the function\n",
    "my_oneil_function()"
   ]
  },
  {
   "cell_type": "code",
   "execution_count": 8,
   "id": "886caf9d",
   "metadata": {},
   "outputs": [],
   "source": [
    "my_oneil_function?"
   ]
  },
  {
   "cell_type": "code",
   "execution_count": 12,
   "id": "266ae912",
   "metadata": {},
   "outputs": [
    {
     "name": "stdout",
     "output_type": "stream",
     "text": [
      "Hello my class!\n"
     ]
    }
   ],
   "source": [
    "my_oneil_function()"
   ]
  },
  {
   "cell_type": "code",
   "execution_count": 13,
   "id": "166d0d8d",
   "metadata": {},
   "outputs": [],
   "source": [
    "#global variables vs LOCAL variables"
   ]
  },
  {
   "cell_type": "code",
   "execution_count": 16,
   "id": "4dc4fa07",
   "metadata": {},
   "outputs": [],
   "source": [
    "def my_altering_function(n):\n",
    "    '''\n",
    "    Take an INT and re-assign it to 45.\n",
    "    RETURN a single INT value 45\n",
    "    '''\n",
    "    \n",
    "    n = 45\n",
    "    return n"
   ]
  },
  {
   "cell_type": "code",
   "execution_count": null,
   "id": "218f433f",
   "metadata": {},
   "outputs": [],
   "source": []
  },
  {
   "cell_type": "code",
   "execution_count": 14,
   "id": "8629f202",
   "metadata": {},
   "outputs": [
    {
     "data": {
      "text/plain": [
       "7"
      ]
     },
     "execution_count": 14,
     "metadata": {},
     "output_type": "execute_result"
    }
   ],
   "source": [
    "x = 7\n",
    "x"
   ]
  },
  {
   "cell_type": "code",
   "execution_count": 17,
   "id": "f9ae047d",
   "metadata": {},
   "outputs": [
    {
     "data": {
      "text/plain": [
       "45"
      ]
     },
     "execution_count": 17,
     "metadata": {},
     "output_type": "execute_result"
    }
   ],
   "source": [
    "my_altering_function(x)"
   ]
  },
  {
   "cell_type": "code",
   "execution_count": 18,
   "id": "23cba8a9",
   "metadata": {},
   "outputs": [
    {
     "data": {
      "text/plain": [
       "7"
      ]
     },
     "execution_count": 18,
     "metadata": {},
     "output_type": "execute_result"
    }
   ],
   "source": [
    "x"
   ]
  },
  {
   "cell_type": "code",
   "execution_count": 19,
   "id": "615211fa",
   "metadata": {},
   "outputs": [
    {
     "name": "stdout",
     "output_type": "stream",
     "text": [
      "Hello my class!\n"
     ]
    }
   ],
   "source": [
    "my_oneil_function()"
   ]
  },
  {
   "cell_type": "code",
   "execution_count": 20,
   "id": "d7985f38",
   "metadata": {},
   "outputs": [
    {
     "name": "stdout",
     "output_type": "stream",
     "text": [
      "Hello my class!\n"
     ]
    }
   ],
   "source": [
    "greeting = my_oneil_function()"
   ]
  },
  {
   "cell_type": "code",
   "execution_count": 21,
   "id": "caadc00f",
   "metadata": {},
   "outputs": [],
   "source": [
    "greeting"
   ]
  },
  {
   "cell_type": "code",
   "execution_count": 22,
   "id": "9e3aca99",
   "metadata": {},
   "outputs": [],
   "source": [
    "# more about RETURN statements - can operate like a BREAK statement\n",
    "\n",
    "def my_hidden(some_string):\n",
    "    '''\n",
    "    hide n seek\n",
    "    \n",
    "    '''\n",
    "    print('h!')\n",
    "    x = 5\n",
    "    return x\n",
    "    print('Done!')\n",
    "    "
   ]
  },
  {
   "cell_type": "code",
   "execution_count": 23,
   "id": "d5ec5849",
   "metadata": {},
   "outputs": [
    {
     "name": "stdout",
     "output_type": "stream",
     "text": [
      "h!\n"
     ]
    }
   ],
   "source": [
    "vvv = my_hidden('please do this')"
   ]
  },
  {
   "cell_type": "code",
   "execution_count": 24,
   "id": "4124e1f6",
   "metadata": {},
   "outputs": [
    {
     "data": {
      "text/plain": [
       "5"
      ]
     },
     "execution_count": 24,
     "metadata": {},
     "output_type": "execute_result"
    }
   ],
   "source": [
    "vvv"
   ]
  },
  {
   "cell_type": "code",
   "execution_count": 25,
   "id": "bddc146f",
   "metadata": {},
   "outputs": [],
   "source": [
    "def my_hidden(some_string):\n",
    "    '''\n",
    "    hide n seek\n",
    "    \n",
    "    '''\n",
    "    print('h!')\n",
    "    x = 5\n",
    "    if len(some_string) > 6:\n",
    "        return x\n",
    "    else:\n",
    "        return 9\n",
    "    print('Done!')\n",
    "    return 25\n",
    "    "
   ]
  },
  {
   "cell_type": "code",
   "execution_count": 26,
   "id": "b186c870",
   "metadata": {},
   "outputs": [
    {
     "name": "stdout",
     "output_type": "stream",
     "text": [
      "h!\n"
     ]
    },
    {
     "data": {
      "text/plain": [
       "5"
      ]
     },
     "execution_count": 26,
     "metadata": {},
     "output_type": "execute_result"
    }
   ],
   "source": [
    "my_hidden('helllllllo')"
   ]
  },
  {
   "cell_type": "code",
   "execution_count": 27,
   "id": "89def16a",
   "metadata": {},
   "outputs": [
    {
     "name": "stdout",
     "output_type": "stream",
     "text": [
      "h!\n"
     ]
    },
    {
     "data": {
      "text/plain": [
       "9"
      ]
     },
     "execution_count": 27,
     "metadata": {},
     "output_type": "execute_result"
    }
   ],
   "source": [
    "my_hidden('dd')"
   ]
  },
  {
   "cell_type": "code",
   "execution_count": 28,
   "id": "fedc58fe",
   "metadata": {},
   "outputs": [],
   "source": [
    "# positional args gain significance because of the ORDER of passing args\n",
    "# keyword args gain significance because of specifying kwarg = 'eee'"
   ]
  },
  {
   "cell_type": "code",
   "execution_count": null,
   "id": "96ae0e5e",
   "metadata": {},
   "outputs": [],
   "source": [
    " # def my_args(some_string, optional_kwarg = 2, opt_kwarg2 = 25)"
   ]
  },
  {
   "cell_type": "code",
   "execution_count": 29,
   "id": "d6ac05e4",
   "metadata": {},
   "outputs": [],
   "source": [
    "# unpacking!"
   ]
  },
  {
   "cell_type": "code",
   "execution_count": 30,
   "id": "575254af",
   "metadata": {},
   "outputs": [
    {
     "data": {
      "text/plain": [
       "['hi', '9', 24]"
      ]
     },
     "execution_count": 30,
     "metadata": {},
     "output_type": "execute_result"
    }
   ],
   "source": [
    "my_list_of_args = ['hi','9',24]\n",
    "my_list_of_args"
   ]
  },
  {
   "cell_type": "code",
   "execution_count": 32,
   "id": "477bf195",
   "metadata": {},
   "outputs": [],
   "source": [
    "# my_args(*my_list_of_args)  the * in the argument indicates to unpack the list and place each element into\n",
    "# the appropriate places as arguments"
   ]
  },
  {
   "cell_type": "code",
   "execution_count": 33,
   "id": "7a4f41b0",
   "metadata": {},
   "outputs": [],
   "source": [
    "# if we use ** instead of *, we are now passing dictionary values into the function "
   ]
  },
  {
   "cell_type": "code",
   "execution_count": 34,
   "id": "c01f84b9",
   "metadata": {},
   "outputs": [
    {
     "data": {
      "text/plain": [
       "<function __main__.<lambda>(x)>"
      ]
     },
     "execution_count": 34,
     "metadata": {},
     "output_type": "execute_result"
    }
   ],
   "source": [
    "# lambdassssssssss\n",
    "lambda x: x + 5"
   ]
  },
  {
   "cell_type": "code",
   "execution_count": 35,
   "id": "aab766ae",
   "metadata": {},
   "outputs": [],
   "source": [
    "my_first_lamb = lambda x: x + 5"
   ]
  },
  {
   "cell_type": "code",
   "execution_count": 36,
   "id": "ca2045f6",
   "metadata": {},
   "outputs": [
    {
     "data": {
      "text/plain": [
       "<function __main__.<lambda>(x)>"
      ]
     },
     "execution_count": 36,
     "metadata": {},
     "output_type": "execute_result"
    }
   ],
   "source": [
    "my_first_lamb"
   ]
  },
  {
   "cell_type": "code",
   "execution_count": 37,
   "id": "8386f296",
   "metadata": {},
   "outputs": [
    {
     "data": {
      "text/plain": [
       "10"
      ]
     },
     "execution_count": 37,
     "metadata": {},
     "output_type": "execute_result"
    }
   ],
   "source": [
    "my_first_lamb(5)"
   ]
  },
  {
   "cell_type": "code",
   "execution_count": 38,
   "id": "e59981f4",
   "metadata": {},
   "outputs": [],
   "source": [
    "# structure of lambbbbssss! da\n",
    "# lambda <variable_name>: <whatever i want this lambda function to do>\n",
    "my_ham = lambda ham_sand: ham_sand + 1"
   ]
  },
  {
   "cell_type": "code",
   "execution_count": 39,
   "id": "6e7e525a",
   "metadata": {},
   "outputs": [
    {
     "ename": "NameError",
     "evalue": "name 'ham_sand' is not defined",
     "output_type": "error",
     "traceback": [
      "\u001b[0;31m---------------------------------------------------------------------------\u001b[0m",
      "\u001b[0;31mNameError\u001b[0m                                 Traceback (most recent call last)",
      "Input \u001b[0;32mIn [39]\u001b[0m, in \u001b[0;36m<cell line: 1>\u001b[0;34m()\u001b[0m\n\u001b[0;32m----> 1\u001b[0m \u001b[43mham_sand\u001b[49m(\u001b[38;5;241m5\u001b[39m)\n",
      "\u001b[0;31mNameError\u001b[0m: name 'ham_sand' is not defined"
     ]
    }
   ],
   "source": [
    "ham_sand(5)"
   ]
  },
  {
   "cell_type": "code",
   "execution_count": 40,
   "id": "216797a9",
   "metadata": {},
   "outputs": [
    {
     "data": {
      "text/plain": [
       "6"
      ]
     },
     "execution_count": 40,
     "metadata": {},
     "output_type": "execute_result"
    }
   ],
   "source": [
    "my_ham(5)"
   ]
  }
 ],
 "metadata": {
  "kernelspec": {
   "display_name": "Python 3 (ipykernel)",
   "language": "python",
   "name": "python3"
  },
  "language_info": {
   "codemirror_mode": {
    "name": "ipython",
    "version": 3
   },
   "file_extension": ".py",
   "mimetype": "text/x-python",
   "name": "python",
   "nbconvert_exporter": "python",
   "pygments_lexer": "ipython3",
   "version": "3.9.13"
  }
 },
 "nbformat": 4,
 "nbformat_minor": 5
}
