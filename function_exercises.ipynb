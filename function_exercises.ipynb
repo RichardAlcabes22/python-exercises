{
 "cells": [
  {
   "cell_type": "code",
   "execution_count": 2,
   "id": "bb8cacc9",
   "metadata": {},
   "outputs": [],
   "source": [
    "# 1 define is_two which checks that input == 2 or '2'\n",
    "\n",
    "def is_two(n):\n",
    "    if n == 2:\n",
    "        return True\n",
    "    elif n == '2':\n",
    "        return True\n",
    "    else:\n",
    "        return False"
   ]
  },
  {
   "cell_type": "code",
   "execution_count": 36,
   "id": "acbee5c2",
   "metadata": {},
   "outputs": [
    {
     "data": {
      "text/plain": [
       "False"
      ]
     },
     "execution_count": 36,
     "metadata": {},
     "output_type": "execute_result"
    }
   ],
   "source": [
    "is_two(3)"
   ]
  },
  {
   "cell_type": "code",
   "execution_count": 15,
   "id": "5cced460",
   "metadata": {},
   "outputs": [],
   "source": [
    "# 2 define is_vowel check if char is vowel or not\n",
    "\n",
    "def is_vowel(x):\n",
    "    vowels = ['a','e','i','o','u']\n",
    "    if x.lower() in vowels:\n",
    "        return True\n",
    "    else:\n",
    "        return False\n",
    "    \n",
    "    "
   ]
  },
  {
   "cell_type": "code",
   "execution_count": 16,
   "id": "edc7b0cd",
   "metadata": {},
   "outputs": [
    {
     "data": {
      "text/plain": [
       "True"
      ]
     },
     "execution_count": 16,
     "metadata": {},
     "output_type": "execute_result"
    }
   ],
   "source": [
    "is_vowel('i')"
   ]
  },
  {
   "cell_type": "code",
   "execution_count": 22,
   "id": "37b70781",
   "metadata": {},
   "outputs": [],
   "source": [
    "# 3 is_consonant checks if char is a consonant MUST USE is-vowel function\n",
    "\n",
    "def is_consonant(x):\n",
    "    return not is_vowel(x)"
   ]
  },
  {
   "cell_type": "code",
   "execution_count": 23,
   "id": "6bc1d3ae",
   "metadata": {},
   "outputs": [
    {
     "data": {
      "text/plain": [
       "True"
      ]
     },
     "execution_count": 23,
     "metadata": {},
     "output_type": "execute_result"
    }
   ],
   "source": [
    "is_consonant('r')"
   ]
  },
  {
   "cell_type": "code",
   "execution_count": 26,
   "id": "3ed51fa3",
   "metadata": {},
   "outputs": [],
   "source": [
    "# 4 define function that accepts a string as a word...it should capitalize 1st letter if word NOT is_vowel\n",
    "\n",
    "def capitalz(stringy):\n",
    "    if is_vowel(stringy[0]) == False:\n",
    "        return stringy.capitalize()\n",
    "    else:\n",
    "        return stringy"
   ]
  },
  {
   "cell_type": "code",
   "execution_count": 27,
   "id": "0caf267d",
   "metadata": {},
   "outputs": [
    {
     "data": {
      "text/plain": [
       "'error'"
      ]
     },
     "execution_count": 27,
     "metadata": {},
     "output_type": "execute_result"
    }
   ],
   "source": [
    "capitalz('error')"
   ]
  },
  {
   "cell_type": "code",
   "execution_count": 28,
   "id": "2e50367d",
   "metadata": {},
   "outputs": [
    {
     "data": {
      "text/plain": [
       "'Terror'"
      ]
     },
     "execution_count": 28,
     "metadata": {},
     "output_type": "execute_result"
    }
   ],
   "source": [
    "capitalz('terror')"
   ]
  },
  {
   "cell_type": "code",
   "execution_count": 33,
   "id": "160f3e66",
   "metadata": {},
   "outputs": [],
   "source": [
    "# 5 define calc_tip to accept a tip_pct and bill_amt and RETURN tip_amt\n",
    "\n",
    "def calc_tip(tip_pct,bill_amt):\n",
    "    tip_amt = tip_pct * bill_amt\n",
    "    return round(tip_amt,2)"
   ]
  },
  {
   "cell_type": "code",
   "execution_count": 34,
   "id": "8b35d052",
   "metadata": {},
   "outputs": [
    {
     "data": {
      "text/plain": [
       "11.2"
      ]
     },
     "execution_count": 34,
     "metadata": {},
     "output_type": "execute_result"
    }
   ],
   "source": [
    "calc_tip(0.2,56)"
   ]
  },
  {
   "cell_type": "code",
   "execution_count": 38,
   "id": "731d80dc",
   "metadata": {},
   "outputs": [],
   "source": [
    "# 6 define apply_disc accept original price, disc_pct RETURN new_price\n",
    "def apply_disc(org_price,disc_pct):\n",
    "    new_price = org_price - (org_price * disc_pct)\n",
    "    return round(new_price,2)"
   ]
  },
  {
   "cell_type": "code",
   "execution_count": 41,
   "id": "deda0074",
   "metadata": {},
   "outputs": [
    {
     "data": {
      "text/plain": [
       "63.64"
      ]
     },
     "execution_count": 41,
     "metadata": {},
     "output_type": "execute_result"
    }
   ],
   "source": [
    "apply_disc(74,0.14)"
   ]
  },
  {
   "cell_type": "code",
   "execution_count": 61,
   "id": "367beeea",
   "metadata": {},
   "outputs": [],
   "source": [
    "# 7 define handle_commas accepts a String that is numerical and contains commas-RETURN a number: no commas\n",
    "import re\n",
    "def handle_commas(num_string):\n",
    "    char_list = num_string.split(',')\n",
    "    new_num = ''.join(char_list)\n",
    "    return new_num"
   ]
  },
  {
   "cell_type": "code",
   "execution_count": 62,
   "id": "807c0b51",
   "metadata": {},
   "outputs": [
    {
     "data": {
      "text/plain": [
       "'121222001'"
      ]
     },
     "execution_count": 62,
     "metadata": {},
     "output_type": "execute_result"
    }
   ],
   "source": [
    "handle_commas('121,222,001')"
   ]
  },
  {
   "cell_type": "code",
   "execution_count": 63,
   "id": "1ec8cf4c",
   "metadata": {},
   "outputs": [
    {
     "data": {
      "text/plain": [
       "'12001'"
      ]
     },
     "execution_count": 63,
     "metadata": {},
     "output_type": "execute_result"
    }
   ],
   "source": [
    "handle_commas('12,001')"
   ]
  },
  {
   "cell_type": "code",
   "execution_count": 48,
   "id": "5278a58d",
   "metadata": {},
   "outputs": [
    {
     "data": {
      "text/plain": [
       "'120000001'"
      ]
     },
     "execution_count": 48,
     "metadata": {},
     "output_type": "execute_result"
    }
   ],
   "source": [
    "num = '120,000,001'\n",
    "char_list = num.split(',')\n",
    "char_list\n",
    "new_num = ''.join(char_list)\n",
    "new_num"
   ]
  },
  {
   "cell_type": "code",
   "execution_count": 64,
   "id": "8594c775",
   "metadata": {},
   "outputs": [],
   "source": [
    "# 8 define function get_letter_grade accept a number RETURN letter grade\n",
    "\n",
    "def get_letter_grade(n):\n",
    "    if n >= 94:\n",
    "        return 'A'\n",
    "    elif n >= 84:\n",
    "        return 'B'\n",
    "    elif n >= 74:\n",
    "        return 'C'\n",
    "    elif n >= 64:\n",
    "        return 'D'\n",
    "    else:\n",
    "        return 'F'\n",
    "    "
   ]
  },
  {
   "cell_type": "code",
   "execution_count": 67,
   "id": "e789d42e",
   "metadata": {},
   "outputs": [
    {
     "data": {
      "text/plain": [
       "'D'"
      ]
     },
     "execution_count": 67,
     "metadata": {},
     "output_type": "execute_result"
    }
   ],
   "source": [
    "get_letter_grade(67)"
   ]
  },
  {
   "cell_type": "code",
   "execution_count": 68,
   "id": "fee59415",
   "metadata": {},
   "outputs": [],
   "source": [
    "#9 define remove_vowels accept String RETURN string with no vowels\n",
    "import re\n",
    "def remove_vowels(st):\n",
    "    new_st = re.sub('[aeiouAEIOU]','',st)\n",
    "    return new_st"
   ]
  },
  {
   "cell_type": "code",
   "execution_count": 69,
   "id": "ad9c65d9",
   "metadata": {},
   "outputs": [
    {
     "data": {
      "text/plain": [
       "'hjkdhwlhwl'"
      ]
     },
     "execution_count": 69,
     "metadata": {},
     "output_type": "execute_result"
    }
   ],
   "source": [
    "remove_vowels('hjkdhewilhuweliu')"
   ]
  },
  {
   "cell_type": "code",
   "execution_count": 70,
   "id": "86c7d4fc",
   "metadata": {},
   "outputs": [
    {
     "data": {
      "text/plain": [
       "'wwww'"
      ]
     },
     "execution_count": 70,
     "metadata": {},
     "output_type": "execute_result"
    }
   ],
   "source": [
    "remove_vowels('iiiiooooouuuuuwwwwiiii')"
   ]
  },
  {
   "cell_type": "code",
   "execution_count": 93,
   "id": "6a5cdfb3",
   "metadata": {},
   "outputs": [],
   "source": [
    "# 10 Define normalize_name acept String RETURN valid python operator:\n",
    "import re\n",
    "\n",
    "def normalize_name(st):\n",
    "    st2 = st.lower().strip()\n",
    "    st3 = re.sub(' ','_',st2)\n",
    "    st4 = st3.replace('!', '').replace('@', '').replace('#', '').replace('$', '').replace('%', '').replace('^', '').replace('&', '').replace('*', '').replace('.', '').replace(',', '')\n",
    "    return st4"
   ]
  },
  {
   "cell_type": "code",
   "execution_count": 94,
   "id": "72b9611d",
   "metadata": {},
   "outputs": [
    {
     "data": {
      "text/plain": [
       "'rtrurytridn__23aa'"
      ]
     },
     "execution_count": 94,
     "metadata": {},
     "output_type": "execute_result"
    }
   ],
   "source": [
    "normalize_name(string)"
   ]
  },
  {
   "cell_type": "code",
   "execution_count": 86,
   "id": "21eaeed3",
   "metadata": {},
   "outputs": [
    {
     "data": {
      "text/plain": [
       "'rtrurytridn.@!!& , 23aa'"
      ]
     },
     "execution_count": 86,
     "metadata": {},
     "output_type": "execute_result"
    }
   ],
   "source": [
    "string = '    rtrurytridn.@!!& , 23AA    '  \n",
    "strung = string.lower().strip()\n",
    "strung"
   ]
  },
  {
   "cell_type": "code",
   "execution_count": 87,
   "id": "d173e9ec",
   "metadata": {},
   "outputs": [
    {
     "data": {
      "text/plain": [
       "'rtrurytridn.@!!&_,_23aa'"
      ]
     },
     "execution_count": 87,
     "metadata": {},
     "output_type": "execute_result"
    }
   ],
   "source": [
    "str3 = re.sub(' ','_',strung)\n",
    "str3"
   ]
  },
  {
   "cell_type": "code",
   "execution_count": 182,
   "id": "a5e28c00",
   "metadata": {},
   "outputs": [],
   "source": [
    "# 11 define cm_sum accepts list of numbers RETURN list of running totals\n",
    "def cm_sum(l_nums):\n",
    "    new_nums = []\n",
    "    counter = 0\n",
    "    for n in l_nums:\n",
    "        counter += n\n",
    "        new_nums.append(counter)\n",
    "# run_sums = [l_nums[n] + l_nums[n] for n in range(len(l_nums))]\n",
    "    return new_nums"
   ]
  },
  {
   "cell_type": "code",
   "execution_count": 104,
   "id": "79a39338",
   "metadata": {},
   "outputs": [
    {
     "data": {
      "text/plain": [
       "[3, 5, 7, 9, 11, 13]"
      ]
     },
     "execution_count": 104,
     "metadata": {},
     "output_type": "execute_result"
    }
   ],
   "source": [
    "xl = list(range(3,15,2))\n",
    "xl"
   ]
  },
  {
   "cell_type": "code",
   "execution_count": 183,
   "id": "b6ae9072",
   "metadata": {},
   "outputs": [
    {
     "data": {
      "text/plain": [
       "[3, 8, 15, 24, 35, 48]"
      ]
     },
     "execution_count": 183,
     "metadata": {},
     "output_type": "execute_result"
    }
   ],
   "source": [
    "cm_sum(xl)"
   ]
  },
  {
   "cell_type": "code",
   "execution_count": null,
   "id": "b427464f",
   "metadata": {},
   "outputs": [],
   "source": []
  }
 ],
 "metadata": {
  "kernelspec": {
   "display_name": "Python 3 (ipykernel)",
   "language": "python",
   "name": "python3"
  },
  "language_info": {
   "codemirror_mode": {
    "name": "ipython",
    "version": 3
   },
   "file_extension": ".py",
   "mimetype": "text/x-python",
   "name": "python",
   "nbconvert_exporter": "python",
   "pygments_lexer": "ipython3",
   "version": "3.9.13"
  }
 },
 "nbformat": 4,
 "nbformat_minor": 5
}
