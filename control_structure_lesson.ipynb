{
 "cells": [
  {
   "cell_type": "markdown",
   "id": "fd37dd32",
   "metadata": {},
   "source": [
    "### Control Structures\n",
    "\n",
    "##### Topic 1: IF Statements"
   ]
  },
  {
   "cell_type": "code",
   "execution_count": null,
   "id": "0ce62988",
   "metadata": {},
   "outputs": [],
   "source": [
    "# IF statement controls the action that is performed\n",
    "'''\n",
    " if <thing>:\n",
    "    <do action>\n",
    " \n",
    "\n",
    "'''"
   ]
  },
  {
   "cell_type": "code",
   "execution_count": 5,
   "id": "f6c1ddbf",
   "metadata": {},
   "outputs": [],
   "source": [
    "# start with var called breakfast\n",
    "breakfast = 'coffee'"
   ]
  },
  {
   "cell_type": "code",
   "execution_count": 6,
   "id": "1fda45dd",
   "metadata": {},
   "outputs": [
    {
     "name": "stdout",
     "output_type": "stream",
     "text": [
      "you had no fruit\n"
     ]
    }
   ],
   "source": [
    "if breakfast == 'banana':\n",
    "    print('you had fruit')\n",
    "else:\n",
    "    print ('you had no fruit')"
   ]
  },
  {
   "cell_type": "code",
   "execution_count": 7,
   "id": "51c87020",
   "metadata": {},
   "outputs": [
    {
     "data": {
      "text/plain": [
       "str"
      ]
     },
     "execution_count": 7,
     "metadata": {},
     "output_type": "execute_result"
    }
   ],
   "source": [
    "# let's change breakfast to banana\n",
    "breakfast = 'banana'\n",
    "type(breakfast)"
   ]
  },
  {
   "cell_type": "code",
   "execution_count": null,
   "id": "99a993df",
   "metadata": {},
   "outputs": [],
   "source": [
    "if breakfast == 'banana':\n",
    "    print('you had fruit')\n",
    "elif breakfast == 'bananana':\n",
    "    print('you had fruit?')\n",
    "else:\n",
    "    print ('you had no fruit')"
   ]
  },
  {
   "cell_type": "code",
   "execution_count": 10,
   "id": "a5539fff",
   "metadata": {},
   "outputs": [],
   "source": [
    "had_coffee = True"
   ]
  },
  {
   "cell_type": "code",
   "execution_count": 15,
   "id": "722676b1",
   "metadata": {},
   "outputs": [
    {
     "name": "stdout",
     "output_type": "stream",
     "text": [
      "you had no fruit\n"
     ]
    }
   ],
   "source": [
    "if not had_coffee:\n",
    "    print('you need caffeiene')\n",
    "elif breakfast == 'bananana':\n",
    "    print('you had fruit?')\n",
    "else:\n",
    "    print ('you had no fruit')"
   ]
  },
  {
   "cell_type": "code",
   "execution_count": 12,
   "id": "5d989881",
   "metadata": {},
   "outputs": [
    {
     "ename": "NameError",
     "evalue": "name 'lunch' is not defined",
     "output_type": "error",
     "traceback": [
      "\u001b[0;31m---------------------------------------------------------------------------\u001b[0m",
      "\u001b[0;31mNameError\u001b[0m                                 Traceback (most recent call last)",
      "Input \u001b[0;32mIn [12]\u001b[0m, in \u001b[0;36m<cell line: 1>\u001b[0;34m()\u001b[0m\n\u001b[0;32m----> 1\u001b[0m \u001b[38;5;28;01mif\u001b[39;00m \u001b[43mlunch\u001b[49m :\n\u001b[1;32m      2\u001b[0m     \u001b[38;5;28mprint\u001b[39m(\u001b[38;5;124m'\u001b[39m\u001b[38;5;124myay lunch!\u001b[39m\u001b[38;5;124m'\u001b[39m)\n",
      "\u001b[0;31mNameError\u001b[0m: name 'lunch' is not defined"
     ]
    }
   ],
   "source": [
    "if lunch :\n",
    "    print('yay lunch!')"
   ]
  },
  {
   "cell_type": "code",
   "execution_count": null,
   "id": "fd9de179",
   "metadata": {},
   "outputs": [],
   "source": [
    "# if we check a NONEXISTENT variable, we will be given an error message"
   ]
  },
  {
   "cell_type": "code",
   "execution_count": 13,
   "id": "b6debdf0",
   "metadata": {},
   "outputs": [
    {
     "name": "stdout",
     "output_type": "stream",
     "text": [
      "yay, breakfast. yay, breakfast!\n"
     ]
    }
   ],
   "source": [
    "if breakfast:\n",
    "    print('yay, breakfast. yay, breakfast!')"
   ]
  },
  {
   "cell_type": "code",
   "execution_count": 17,
   "id": "395a5a5a",
   "metadata": {},
   "outputs": [
    {
     "name": "stdout",
     "output_type": "stream",
     "text": [
      "you need caffeiene\n",
      "you had no fruit\n"
     ]
    }
   ],
   "source": [
    "# notice with multiple if's the behavior\n",
    "\n",
    "if had_coffee:\n",
    "    print('you need caffeiene')\n",
    "if breakfast == 'bananana':\n",
    "    print('you had fruit?')\n",
    "else:\n",
    "    print ('you had no fruit')"
   ]
  },
  {
   "cell_type": "code",
   "execution_count": 18,
   "id": "58704fcd",
   "metadata": {},
   "outputs": [
    {
     "name": "stdout",
     "output_type": "stream",
     "text": [
      "somewhat balanced\n"
     ]
    }
   ],
   "source": [
    "if had_coffee and breakfast == 'banana':\n",
    "    print('somewhat balanced')\n",
    "else:\n",
    "    print('live your life')"
   ]
  },
  {
   "cell_type": "code",
   "execution_count": null,
   "id": "e261d000",
   "metadata": {},
   "outputs": [],
   "source": [
    "# had coffee and (breakfast == 'banana')\n",
    "# some more stuff\n",
    "# stuff i dont want as code\n",
    "# comand /?\n",
    "\n",
    "'''\n",
    "jfhwfheiuwe\n",
    "efwefwef\n",
    "'''"
   ]
  },
  {
   "cell_type": "code",
   "execution_count": null,
   "id": "62503151",
   "metadata": {},
   "outputs": [],
   "source": [
    "# each else default is functionally dependent upon the if-elif chain to which it is attached"
   ]
  },
  {
   "cell_type": "code",
   "execution_count": 22,
   "id": "a9eece8d",
   "metadata": {},
   "outputs": [
    {
     "name": "stdout",
     "output_type": "stream",
     "text": [
      "that is string\n",
      "that is fruit\n"
     ]
    }
   ],
   "source": [
    "# nesting\n",
    "if type(breakfast) == str:\n",
    "    print('that is string')\n",
    "    if breakfast in ['banana','orange','apple']:\n",
    "        print('that is fruit')\n",
    "    else:\n",
    "        print('not a fruit')\n",
    "else:\n",
    "    print('not a string!')"
   ]
  },
  {
   "cell_type": "code",
   "execution_count": 23,
   "id": "de0b5cc1",
   "metadata": {},
   "outputs": [
    {
     "data": {
      "text/plain": [
       "True"
      ]
     },
     "execution_count": 23,
     "metadata": {},
     "output_type": "execute_result"
    }
   ],
   "source": [
    "'a' in 'banana'"
   ]
  },
  {
   "cell_type": "code",
   "execution_count": 24,
   "id": "7e241eec",
   "metadata": {},
   "outputs": [
    {
     "data": {
      "text/plain": [
       "False"
      ]
     },
     "execution_count": 24,
     "metadata": {},
     "output_type": "execute_result"
    }
   ],
   "source": [
    "'z' in 'bana'"
   ]
  },
  {
   "cell_type": "code",
   "execution_count": 25,
   "id": "d44df87c",
   "metadata": {},
   "outputs": [
    {
     "data": {
      "text/plain": [
       "True"
      ]
     },
     "execution_count": 25,
     "metadata": {},
     "output_type": "execute_result"
    }
   ],
   "source": [
    "'ana' in 'banana'"
   ]
  },
  {
   "cell_type": "code",
   "execution_count": 26,
   "id": "a2608af1",
   "metadata": {},
   "outputs": [
    {
     "data": {
      "text/plain": [
       "'n'"
      ]
     },
     "execution_count": 26,
     "metadata": {},
     "output_type": "execute_result"
    }
   ],
   "source": [
    "'banana'[2]"
   ]
  },
  {
   "cell_type": "code",
   "execution_count": 27,
   "id": "68f1077f",
   "metadata": {},
   "outputs": [
    {
     "data": {
      "text/plain": [
       "['b', 'a', 'n', 'a', 'n', 'a']"
      ]
     },
     "execution_count": 27,
     "metadata": {},
     "output_type": "execute_result"
    }
   ],
   "source": [
    "[let for let in breakfast]"
   ]
  },
  {
   "cell_type": "code",
   "execution_count": 28,
   "id": "c8e7af1c",
   "metadata": {},
   "outputs": [
    {
     "data": {
      "text/plain": [
       "['b?', 'a?', 'n?', 'a?', 'n?', 'a?']"
      ]
     },
     "execution_count": 28,
     "metadata": {},
     "output_type": "execute_result"
    }
   ],
   "source": [
    "[let+'?' for let in breakfast]"
   ]
  },
  {
   "cell_type": "markdown",
   "id": "63379051",
   "metadata": {},
   "source": [
    "## looooooops!!"
   ]
  },
  {
   "cell_type": "code",
   "execution_count": 29,
   "id": "a766dc11",
   "metadata": {},
   "outputs": [
    {
     "data": {
      "text/plain": [
       "'\\nlist comp is a shorthand way to generate a list via a for loop\\n\\n'"
      ]
     },
     "execution_count": 29,
     "metadata": {},
     "output_type": "execute_result"
    }
   ],
   "source": [
    "'''\n",
    "list comp is a shorthand way to generate a list via a for loop\n",
    "\n",
    "'''"
   ]
  },
  {
   "cell_type": "code",
   "execution_count": 30,
   "id": "6ffc3bb2",
   "metadata": {},
   "outputs": [
    {
     "name": "stdout",
     "output_type": "stream",
     "text": [
      "b\n",
      "a\n",
      "n\n",
      "a\n",
      "n\n",
      "a\n",
      "s\n"
     ]
    }
   ],
   "source": [
    "g_list = []\n",
    "for i in 'bananas':\n",
    "    print(i)\n",
    "    g_list.append(i)"
   ]
  },
  {
   "cell_type": "code",
   "execution_count": 31,
   "id": "f43f906d",
   "metadata": {},
   "outputs": [
    {
     "data": {
      "text/plain": [
       "['b', 'a', 'n', 'a', 'n', 'a', 's']"
      ]
     },
     "execution_count": 31,
     "metadata": {},
     "output_type": "execute_result"
    }
   ],
   "source": [
    "g_list"
   ]
  },
  {
   "cell_type": "code",
   "execution_count": 33,
   "id": "700fa464",
   "metadata": {},
   "outputs": [
    {
     "data": {
      "text/plain": [
       "['b?', 'a?', 'n?', 'a?', 'n?', 'a?']"
      ]
     },
     "execution_count": 33,
     "metadata": {},
     "output_type": "execute_result"
    }
   ],
   "source": [
    "other_g_list = [let + '?' for let in breakfast]\n",
    "other_g_list"
   ]
  },
  {
   "cell_type": "code",
   "execution_count": null,
   "id": "5fc5a4a5",
   "metadata": {},
   "outputs": [],
   "source": [
    "# overloaded operator is the plus sign + math functions and concat functions \n",
    "# and others all depends upon data types"
   ]
  },
  {
   "cell_type": "code",
   "execution_count": 34,
   "id": "8bd09724",
   "metadata": {},
   "outputs": [
    {
     "data": {
      "text/plain": [
       "'4ba'"
      ]
     },
     "execution_count": 34,
     "metadata": {},
     "output_type": "execute_result"
    }
   ],
   "source": [
    "# 4 + 'ba'  error\n",
    "# fix\n",
    "str(4) + 'ba'\n",
    "# or fix 2\n",
    "'4' + 'ba'"
   ]
  },
  {
   "cell_type": "code",
   "execution_count": 35,
   "id": "f4b5c2f2",
   "metadata": {},
   "outputs": [
    {
     "name": "stdout",
     "output_type": "stream",
     "text": [
      "hi, good morning555\n"
     ]
    }
   ],
   "source": [
    "# some stuff may require user input:\n",
    "my_user_var = input('hi, good morning')"
   ]
  },
  {
   "cell_type": "code",
   "execution_count": 36,
   "id": "139cdfc0",
   "metadata": {},
   "outputs": [
    {
     "ename": "TypeError",
     "evalue": "'>' not supported between instances of 'str' and 'int'",
     "output_type": "error",
     "traceback": [
      "\u001b[0;31m---------------------------------------------------------------------------\u001b[0m",
      "\u001b[0;31mTypeError\u001b[0m                                 Traceback (most recent call last)",
      "Input \u001b[0;32mIn [36]\u001b[0m, in \u001b[0;36m<cell line: 1>\u001b[0;34m()\u001b[0m\n\u001b[0;32m----> 1\u001b[0m \u001b[43mmy_user_var\u001b[49m\u001b[43m \u001b[49m\u001b[38;5;241;43m>\u001b[39;49m\u001b[43m \u001b[49m\u001b[38;5;241;43m4\u001b[39;49m\n",
      "\u001b[0;31mTypeError\u001b[0m: '>' not supported between instances of 'str' and 'int'"
     ]
    }
   ],
   "source": [
    "my_user_var > 4"
   ]
  },
  {
   "cell_type": "code",
   "execution_count": 37,
   "id": "f7eb8604",
   "metadata": {},
   "outputs": [],
   "source": [
    "str.lower? # docstring for a string method\n",
    "# ? will access the help docstring"
   ]
  },
  {
   "cell_type": "code",
   "execution_count": 38,
   "id": "4cc7e9ea",
   "metadata": {},
   "outputs": [
    {
     "name": "stdout",
     "output_type": "stream",
     "text": [
      "hi MF!hello\n",
      "hi MF!hi?\n",
      "hi MF!whut\n",
      "hi MF!c'mon\n",
      "hi MF!break\n",
      "hi MF!stop_please\n"
     ]
    }
   ],
   "source": [
    "response = ''\n",
    "counter = 0\n",
    "while response != 'stop_please':\n",
    "    response = input('hi MF!')\n",
    "    counter += 1\n",
    "    if counter >= 10:\n",
    "        break"
   ]
  },
  {
   "cell_type": "code",
   "execution_count": 39,
   "id": "ca4b4750",
   "metadata": {},
   "outputs": [],
   "source": [
    "# while loops: see above example"
   ]
  },
  {
   "cell_type": "markdown",
   "id": "5e1c24f4",
   "metadata": {},
   "source": [
    "### Loops in Geneeral:\n",
    " under some condition\n",
    " do some action"
   ]
  },
  {
   "cell_type": "code",
   "execution_count": 40,
   "id": "2b33f8ee",
   "metadata": {},
   "outputs": [],
   "source": [
    "# for loop: do something for each element\n",
    "# while loop: do something while condition exists/true"
   ]
  },
  {
   "cell_type": "code",
   "execution_count": 51,
   "id": "a3505a39",
   "metadata": {},
   "outputs": [],
   "source": [
    "fruit_list = [\n",
    "    'banana',\n",
    "    'apple',\n",
    "    'watermelon',\n",
    "    'persimmon',\n",
    "    'peach',\n",
    "    'grapefruit',\n",
    "    'kiwi'\n",
    "]"
   ]
  },
  {
   "cell_type": "code",
   "execution_count": 42,
   "id": "5006a815",
   "metadata": {},
   "outputs": [
    {
     "name": "stdout",
     "output_type": "stream",
     "text": [
      "banana\n",
      "apple\n",
      "persimmon\n",
      "grapefruit\n",
      "kiwi\n"
     ]
    }
   ],
   "source": [
    "for item in fruit_list:\n",
    "    print(item)"
   ]
  },
  {
   "cell_type": "code",
   "execution_count": 43,
   "id": "40beb69f",
   "metadata": {},
   "outputs": [
    {
     "name": "stdout",
     "output_type": "stream",
     "text": [
      "0\n",
      "banana\n",
      "1\n",
      "apple\n",
      "2\n",
      "persimmon\n",
      "3\n",
      "grapefruit\n",
      "4\n",
      "kiwi\n"
     ]
    }
   ],
   "source": [
    "for i, item in enumerate(fruit_list):\n",
    "    print(i)\n",
    "    print(item)"
   ]
  },
  {
   "cell_type": "code",
   "execution_count": 44,
   "id": "52fdda5f",
   "metadata": {},
   "outputs": [
    {
     "data": {
      "text/plain": [
       "<enumerate at 0x1075df700>"
      ]
     },
     "execution_count": 44,
     "metadata": {},
     "output_type": "execute_result"
    }
   ],
   "source": [
    "enumerate(fruit_list)"
   ]
  },
  {
   "cell_type": "code",
   "execution_count": 46,
   "id": "76e396ef",
   "metadata": {},
   "outputs": [
    {
     "data": {
      "text/plain": [
       "[0, 1, 2, 3, 4, 5, 6, 7, 8, 9]"
      ]
     },
     "execution_count": 46,
     "metadata": {},
     "output_type": "execute_result"
    }
   ],
   "source": [
    "list(range(10))"
   ]
  },
  {
   "cell_type": "code",
   "execution_count": 53,
   "id": "141f51d3",
   "metadata": {},
   "outputs": [
    {
     "data": {
      "text/plain": [
       "[(0, 'banana'),\n",
       " (1, 'apple'),\n",
       " (2, 'watermelon'),\n",
       " (3, 'persimmon'),\n",
       " (4, 'peach'),\n",
       " (5, 'grapefruit'),\n",
       " (6, 'kiwi')]"
      ]
     },
     "execution_count": 53,
     "metadata": {},
     "output_type": "execute_result"
    }
   ],
   "source": [
    "list(enumerate(fruit_list))"
   ]
  },
  {
   "cell_type": "code",
   "execution_count": 52,
   "id": "bdca75b3",
   "metadata": {},
   "outputs": [
    {
     "name": "stdout",
     "output_type": "stream",
     "text": [
      "this fruit is a banana!\n",
      "here again, the fruit is apple?\n",
      "this fruit is a apple!\n",
      "this fruit is a watermelon!\n",
      "this fruit is a peach!\n"
     ]
    }
   ],
   "source": [
    "for fruit in fruit_list:\n",
    "    if fruit == 'persimmon':\n",
    "        continue\n",
    "        print('here?')\n",
    "    if fruit == 'apple':\n",
    "        pass\n",
    "        print(f'here again, the fruit is {fruit}?')\n",
    "    if fruit == 'grapefruit':\n",
    "        break\n",
    "    print(f'this fruit is a {fruit}!')"
   ]
  },
  {
   "cell_type": "code",
   "execution_count": 54,
   "id": "15541bad",
   "metadata": {},
   "outputs": [],
   "source": [
    "# continue like 'skip' or 'next item on list'"
   ]
  },
  {
   "cell_type": "code",
   "execution_count": null,
   "id": "1a9d375c",
   "metadata": {},
   "outputs": [],
   "source": []
  },
  {
   "cell_type": "code",
   "execution_count": null,
   "id": "b758774b",
   "metadata": {},
   "outputs": [],
   "source": []
  }
 ],
 "metadata": {
  "kernelspec": {
   "display_name": "Python 3 (ipykernel)",
   "language": "python",
   "name": "python3"
  },
  "language_info": {
   "codemirror_mode": {
    "name": "ipython",
    "version": 3
   },
   "file_extension": ".py",
   "mimetype": "text/x-python",
   "name": "python",
   "nbconvert_exporter": "python",
   "pygments_lexer": "ipython3",
   "version": "3.9.13"
  }
 },
 "nbformat": 4,
 "nbformat_minor": 5
}
