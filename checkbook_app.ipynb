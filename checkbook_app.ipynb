{
 "cells": [
  {
   "cell_type": "code",
   "execution_count": 1,
   "id": "7ccda13c",
   "metadata": {},
   "outputs": [
    {
     "name": "stdout",
     "output_type": "stream",
     "text": [
      "Welcome to your Python Checkbook\n",
      "\n",
      "What would you like to do today?\n",
      "\n",
      "1- View Current Balance\n",
      "2- Record a Debit\n",
      "3- Record a Credit\n",
      "4- View Transaction History\n",
      "5- Modify a Transaction\n",
      "6- Exit\n",
      "\n",
      "Enter a Selection:  2\n"
     ]
    }
   ],
   "source": [
    "# 1. (PROD) OPENING GREETING AND USER SELECTION (also import os, time and csv)\n",
    "\n",
    "import os\n",
    "import csv\n",
    "import time\n",
    "\n",
    "print('Welcome to your Python Checkbook' + '\\n' +'\\n' +\n",
    "       'What would you like to do today?')\n",
    "print(\n",
    "      '\\n' +\n",
    "      '1- View Current Balance' + '\\n' +\n",
    "      '2- Record a Debit' + '\\n' +\n",
    "      '3- Record a Credit' + '\\n' +\n",
    "      '4- View Transaction History' + '\\n' +\n",
    "      '5- Modify a Transaction' + '\\n' +\n",
    "      '6- Exit\\n'\n",
    ")\n",
    "\n",
    "valid_choice = [1,2,3,4,5,6]\n",
    "num = None\n",
    "while num not in valid_choice:\n",
    "    user_choice = input('Enter a Selection:  ')\n",
    "    try:\n",
    "        num = int(user_choice)\n",
    "    except ValueError:\n",
    "        print('Please Enter a Valid Selection 1-6')\n",
    "    try:\n",
    "        if num > 6:\n",
    "            print('Please Enter a Valid Selection 1-6')\n",
    "    except TypeError:\n",
    "        print('Please Enter a Valid Selection 1-6')"
   ]
  },
  {
   "cell_type": "code",
   "execution_count": 2,
   "id": "47780d8a",
   "metadata": {},
   "outputs": [],
   "source": [
    "# 2. (TEST) CREATE CHECKBOOK_DATA.CSV IF NOT EXIST\n",
    "cols = ['CATEGORY','AMOUNT','DESCR','DATETIME','BALANCE']\n",
    "if os.path.exists(\n",
    "    'checkbook_data_test.csv'):\n",
    "    print('gtg')\n",
    "    with open('checkbook_data_test.csv','r') as f:\n",
    "        pass # or continue?\n",
    "with open('checkbook_data_test.csv','w') as f:\n",
    "    writer = csv.DictWriter(f,fieldnames=cols)\n",
    "    writer.writeheader()\n",
    "    writer.writerow(\n",
    "        \n",
    "            {'CATEGORY':'Init',\n",
    "             'AMOUNT': 0.00,\n",
    "             'DESCR':'DB Initialize',\n",
    "             'DATETIME':dtg,\n",
    "             'BALANCE': 0.00\n",
    "            }\n",
    "        \n",
    "                    )"
   ]
  },
  {
   "cell_type": "code",
   "execution_count": null,
   "id": "427d9959",
   "metadata": {},
   "outputs": [],
   "source": [
    "# 3. (TEST) POPULATE CHECKBOOK_DATA WITH INFO\n",
    "cols = ['CATEGORY','AMOUNT','DESCR','DATETIME','BALANCE']\n",
    "with open('checkbook_data_test.csv','a') as f:\n",
    "    writer = csv.DictWriter(f,fieldnames=cols)\n",
    "    writer.writerow(\n",
    "        \n",
    "            {'CATEGORY':'Init',\n",
    "             'AMOUNT': 0.00,\n",
    "             'DESCR':'DB Initialize',\n",
    "             'DATETIME':dtg,\n",
    "             'BALANCE': 0.00\n",
    "            }\n",
    "        \n",
    "                    )"
   ]
  },
  {
   "cell_type": "code",
   "execution_count": null,
   "id": "1fcee9f7",
   "metadata": {},
   "outputs": [],
   "source": []
  },
  {
   "cell_type": "code",
   "execution_count": null,
   "id": "95dcbe1d",
   "metadata": {},
   "outputs": [],
   "source": []
  },
  {
   "cell_type": "code",
   "execution_count": 4,
   "id": "7eb5c3f3",
   "metadata": {},
   "outputs": [
    {
     "name": "stdout",
     "output_type": "stream",
     "text": [
      "gtg\n"
     ]
    },
    {
     "data": {
      "text/plain": [
       "True"
      ]
     },
     "execution_count": 4,
     "metadata": {},
     "output_type": "execute_result"
    }
   ],
   "source": [
    "# base exist check for test .csv\n",
    "if os.path.exists(\n",
    "    'checkbook_data_test.csv'):\n",
    "    print('gtg')\n",
    "else:\n",
    "    print('no bueno')\n",
    "c = os.path.exists('checkbook_data_test.csv')\n",
    "c"
   ]
  },
  {
   "cell_type": "code",
   "execution_count": null,
   "id": "cac7fbab",
   "metadata": {},
   "outputs": [],
   "source": []
  },
  {
   "cell_type": "code",
   "execution_count": null,
   "id": "c68f65ef",
   "metadata": {},
   "outputs": [],
   "source": []
  },
  {
   "cell_type": "code",
   "execution_count": null,
   "id": "cc27137c",
   "metadata": {},
   "outputs": [],
   "source": []
  },
  {
   "cell_type": "code",
   "execution_count": 24,
   "id": "9812ecc5",
   "metadata": {},
   "outputs": [
    {
     "data": {
      "text/plain": [
       "'2023.2.13.21.39.10.'"
      ]
     },
     "execution_count": 24,
     "metadata": {},
     "output_type": "execute_result"
    }
   ],
   "source": [
    "# time work\n",
    "import time\n",
    "local = time.gmtime()[0:6]\n",
    "local\n",
    "dtg = ''.join([str(i) + '.' for i in local])\n",
    "dtg"
   ]
  },
  {
   "cell_type": "code",
   "execution_count": null,
   "id": "b7c2caa4",
   "metadata": {},
   "outputs": [],
   "source": []
  },
  {
   "cell_type": "code",
   "execution_count": 31,
   "id": "419a74ba",
   "metadata": {},
   "outputs": [
    {
     "name": "stdout",
     "output_type": "stream",
     "text": [
      "Let us first initialize the database...\n",
      "\n"
     ]
    }
   ],
   "source": [
    "# INITIALIZE data.csv\n",
    "import time\n",
    "local = time.gmtime()[0:6]\n",
    "dtg = ''.join([str(i) + '.' for i in local])\n",
    "cols = ['CATEGORY','AMOUNT','DESCR','DATETIME','BALANCE']\n",
    "\n",
    "if os.path.exists(\n",
    "    'checkbook_data_test.csv'):\n",
    "    print('gtg')\n",
    "    with open('checkbook_data_test.csv','r') as f:\n",
    "        pass # or continue?\n",
    "else:\n",
    "    print('Let us first initialize the database...\\n')\n",
    "    with open('checkbook_data_test.csv','w') as f:\n",
    "        writer = csv.DictWriter(f,fieldnames=cols)\n",
    "        writer.writeheader()\n",
    "        writer.writerow(\n",
    "            {'CATEGORY':'Init',\n",
    "             'AMOUNT': 0.00,\n",
    "             'DESCR':'DB Initialize',\n",
    "             'DATETIME':dtg,\n",
    "             'BALANCE': 0.00\n",
    "            }\n",
    "        \n",
    "                        )\n",
    "    "
   ]
  },
  {
   "cell_type": "code",
   "execution_count": null,
   "id": "b73e7b60",
   "metadata": {},
   "outputs": [],
   "source": [
    "cols = ['CATEGORY','AMOUNT','DESCR','DATETIME','BALANCE']\n",
    "initialization_values = {\n",
    "    'CATEGORY':'Init',\n",
    "    'AMOUNT': 0.00,\n",
    "    'DESCR':'DB Initialize',\n",
    "    'DATETIME':''\n",
    "    'BALANCE': 0.00\n",
    "}\n",
    "# if os.path.exists(\n",
    "#     'checkbook_data_test.csv'):\n",
    "#     print('gtg')\n",
    "#     with open('checkbook_data_test.csv','r') as f:\n",
    "#         pass # or continue?\n",
    "# else:\n",
    "#     print('Let us first initialize the database...\\n')\n",
    "with open('checkbook_data_test.csv','w') as f:\n",
    "    writer = csv.DictWriter(f,fieldnames=cols)\n",
    "    writer.writeheader()\n",
    "    "
   ]
  },
  {
   "cell_type": "code",
   "execution_count": 27,
   "id": "50148652",
   "metadata": {},
   "outputs": [
    {
     "data": {
      "text/plain": [
       "[{'CATEGORY': 'CATEGORY',\n",
       "  'AMOUNT': 'AMOUNT',\n",
       "  'DESCR': 'DESCR',\n",
       "  'DATETIME': 'DATETIME'}]"
      ]
     },
     "execution_count": 27,
     "metadata": {},
     "output_type": "execute_result"
    }
   ],
   "source": [
    "with open('checkbook_data_test.csv','r') as f:\n",
    "    content = csv.DictReader(f, fieldnames=cols)\n",
    "    lines = []\n",
    "    for line in content:\n",
    "        lines.append(line)\n",
    "lines"
   ]
  },
  {
   "cell_type": "code",
   "execution_count": null,
   "id": "646288a6",
   "metadata": {},
   "outputs": [],
   "source": [
    "####################\n",
    "\n",
    "valid_choice = [1,2,3,4,5,6]\n",
    "num = None\n",
    "while num not in valid_choice:\n",
    "    user_choice = input('Enter a Selection:  ')\n",
    "    try:\n",
    "        num = int(user_choice)\n",
    "        print('gtg')\n",
    "    except ValueError:\n",
    "        print('nope')\n",
    "    "
   ]
  }
 ],
 "metadata": {
  "kernelspec": {
   "display_name": "Python 3 (ipykernel)",
   "language": "python",
   "name": "python3"
  },
  "language_info": {
   "codemirror_mode": {
    "name": "ipython",
    "version": 3
   },
   "file_extension": ".py",
   "mimetype": "text/x-python",
   "name": "python",
   "nbconvert_exporter": "python",
   "pygments_lexer": "ipython3",
   "version": "3.9.13"
  }
 },
 "nbformat": 4,
 "nbformat_minor": 5
}
