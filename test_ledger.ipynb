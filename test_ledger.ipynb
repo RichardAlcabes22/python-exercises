{
 "cells": [
  {
   "cell_type": "code",
   "execution_count": 1,
   "id": "da45db46",
   "metadata": {},
   "outputs": [],
   "source": [
    "# INITIALIE DB\n",
    "import csv\n",
    "cols = ['c1','c2','c3','c4']\n",
    "transaction = {\n",
    "    'c1':'r1',\n",
    "    'c2':'r1',\n",
    "    'c3':'r1',\n",
    "    'c4':'r1'\n",
    "}\n"
   ]
  },
  {
   "cell_type": "code",
   "execution_count": 2,
   "id": "817254f0",
   "metadata": {},
   "outputs": [
    {
     "data": {
      "text/plain": [
       "{'c1': 'r1', 'c2': 'r1', 'c3': 'r1', 'c4': 'r1'}"
      ]
     },
     "execution_count": 2,
     "metadata": {},
     "output_type": "execute_result"
    }
   ],
   "source": [
    "transaction"
   ]
  },
  {
   "cell_type": "code",
   "execution_count": 3,
   "id": "3474d690",
   "metadata": {},
   "outputs": [],
   "source": [
    "# INITIALIZE CSV with HEADER and FIRST ROW note the 'w'\n",
    "with open('ledger.csv','w') as f:\n",
    "    writer = csv.DictWriter(f, fieldnames=cols)\n",
    "    writer.writeheader()\n",
    "    writer.writerow(transaction)"
   ]
  },
  {
   "cell_type": "code",
   "execution_count": 11,
   "id": "a466d505",
   "metadata": {},
   "outputs": [],
   "source": [
    "# INITAILIZE with HEADER R1 from variable and r2 from MANUAL input note the 'w'\n",
    "with open('ledger.csv','w') as f:\n",
    "    writer = csv.DictWriter(f,fieldnames=cols)\n",
    "    writer.writeheader()\n",
    "    writer.writerow(transaction)\n",
    "    writer.writerow(\n",
    "    {\n",
    "        'c1':'r2',\n",
    "        'c2':'r2',\n",
    "        'c3':'r2',\n",
    "        'c4':'r2'\n",
    "        \n",
    "    }\n",
    "    )"
   ]
  },
  {
   "cell_type": "code",
   "execution_count": 12,
   "id": "dfa23677",
   "metadata": {},
   "outputs": [],
   "source": [
    "# APPEND ROW to csv note the 'a'\n",
    "with open('ledger.csv','a') as f:\n",
    "    writer = csv.DictWriter(f,fieldnames=cols)\n",
    "    writer.writerow(\n",
    "    {\n",
    "        'c1':'r3',\n",
    "        'c2':'r3',\n",
    "        'c3':'r3',\n",
    "        'c4':'r3'\n",
    "        \n",
    "    }\n",
    "    )"
   ]
  },
  {
   "cell_type": "code",
   "execution_count": 14,
   "id": "59fb617a",
   "metadata": {},
   "outputs": [],
   "source": [
    "# READ csv note the 'r'\n",
    "with open('ledger.csv','r') as f:\n",
    "    content = csv.DictReader(f,fieldnames=cols)\n",
    "    lines = []\n",
    "    for i in content:\n",
    "        lines.append(i)"
   ]
  },
  {
   "cell_type": "code",
   "execution_count": 18,
   "id": "29bdc40a",
   "metadata": {},
   "outputs": [
    {
     "data": {
      "text/plain": [
       "[{'c1': 'r1', 'c2': 'r1', 'c3': 'r1', 'c4': 'r1'},\n",
       " {'c1': 'r2', 'c2': 'r2', 'c3': 'r2', 'c4': 'r2'},\n",
       " {'c1': 'r3', 'c2': 'r3', 'c3': 'r3', 'c4': 'r3'}]"
      ]
     },
     "execution_count": 18,
     "metadata": {},
     "output_type": "execute_result"
    }
   ],
   "source": [
    "lines[1:]"
   ]
  },
  {
   "cell_type": "code",
   "execution_count": 37,
   "id": "c5a626b1",
   "metadata": {},
   "outputs": [
    {
     "name": "stdout",
     "output_type": "stream",
     "text": [
      "number plzee\n",
      "nope\n",
      "number plzrrr\n",
      "nope\n",
      "number plzwwww\n",
      "nope\n",
      "number plztttt\n",
      "nope\n"
     ]
    },
    {
     "ename": "KeyboardInterrupt",
     "evalue": "Interrupted by user",
     "output_type": "error",
     "traceback": [
      "\u001b[0;31m---------------------------------------------------------------------------\u001b[0m",
      "\u001b[0;31mKeyboardInterrupt\u001b[0m                         Traceback (most recent call last)",
      "Input \u001b[0;32mIn [37]\u001b[0m, in \u001b[0;36m<cell line: 3>\u001b[0;34m()\u001b[0m\n\u001b[1;32m      2\u001b[0m num \u001b[38;5;241m=\u001b[39m \u001b[38;5;28;01mNone\u001b[39;00m\n\u001b[1;32m      3\u001b[0m \u001b[38;5;28;01mwhile\u001b[39;00m num \u001b[38;5;241m==\u001b[39m \u001b[38;5;28;01mNone\u001b[39;00m:\n\u001b[0;32m----> 4\u001b[0m     user_str \u001b[38;5;241m=\u001b[39m \u001b[38;5;28;43minput\u001b[39;49m\u001b[43m(\u001b[49m\u001b[38;5;124;43m'\u001b[39;49m\u001b[38;5;124;43mnumber plz\u001b[39;49m\u001b[38;5;124;43m'\u001b[39;49m\u001b[43m)\u001b[49m\n\u001b[1;32m      5\u001b[0m     \u001b[38;5;28;01mtry\u001b[39;00m:\n\u001b[1;32m      6\u001b[0m         num \u001b[38;5;241m=\u001b[39m \u001b[38;5;28mint\u001b[39m(user_str)\n",
      "File \u001b[0;32m/opt/homebrew/anaconda3/lib/python3.9/site-packages/ipykernel/kernelbase.py:1177\u001b[0m, in \u001b[0;36mKernel.raw_input\u001b[0;34m(self, prompt)\u001b[0m\n\u001b[1;32m   1173\u001b[0m \u001b[38;5;28;01mif\u001b[39;00m \u001b[38;5;129;01mnot\u001b[39;00m \u001b[38;5;28mself\u001b[39m\u001b[38;5;241m.\u001b[39m_allow_stdin:\n\u001b[1;32m   1174\u001b[0m     \u001b[38;5;28;01mraise\u001b[39;00m StdinNotImplementedError(\n\u001b[1;32m   1175\u001b[0m         \u001b[38;5;124m\"\u001b[39m\u001b[38;5;124mraw_input was called, but this frontend does not support input requests.\u001b[39m\u001b[38;5;124m\"\u001b[39m\n\u001b[1;32m   1176\u001b[0m     )\n\u001b[0;32m-> 1177\u001b[0m \u001b[38;5;28;01mreturn\u001b[39;00m \u001b[38;5;28;43mself\u001b[39;49m\u001b[38;5;241;43m.\u001b[39;49m\u001b[43m_input_request\u001b[49m\u001b[43m(\u001b[49m\n\u001b[1;32m   1178\u001b[0m \u001b[43m    \u001b[49m\u001b[38;5;28;43mstr\u001b[39;49m\u001b[43m(\u001b[49m\u001b[43mprompt\u001b[49m\u001b[43m)\u001b[49m\u001b[43m,\u001b[49m\n\u001b[1;32m   1179\u001b[0m \u001b[43m    \u001b[49m\u001b[38;5;28;43mself\u001b[39;49m\u001b[38;5;241;43m.\u001b[39;49m\u001b[43m_parent_ident\u001b[49m\u001b[43m[\u001b[49m\u001b[38;5;124;43m\"\u001b[39;49m\u001b[38;5;124;43mshell\u001b[39;49m\u001b[38;5;124;43m\"\u001b[39;49m\u001b[43m]\u001b[49m\u001b[43m,\u001b[49m\n\u001b[1;32m   1180\u001b[0m \u001b[43m    \u001b[49m\u001b[38;5;28;43mself\u001b[39;49m\u001b[38;5;241;43m.\u001b[39;49m\u001b[43mget_parent\u001b[49m\u001b[43m(\u001b[49m\u001b[38;5;124;43m\"\u001b[39;49m\u001b[38;5;124;43mshell\u001b[39;49m\u001b[38;5;124;43m\"\u001b[39;49m\u001b[43m)\u001b[49m\u001b[43m,\u001b[49m\n\u001b[1;32m   1181\u001b[0m \u001b[43m    \u001b[49m\u001b[43mpassword\u001b[49m\u001b[38;5;241;43m=\u001b[39;49m\u001b[38;5;28;43;01mFalse\u001b[39;49;00m\u001b[43m,\u001b[49m\n\u001b[1;32m   1182\u001b[0m \u001b[43m\u001b[49m\u001b[43m)\u001b[49m\n",
      "File \u001b[0;32m/opt/homebrew/anaconda3/lib/python3.9/site-packages/ipykernel/kernelbase.py:1219\u001b[0m, in \u001b[0;36mKernel._input_request\u001b[0;34m(self, prompt, ident, parent, password)\u001b[0m\n\u001b[1;32m   1216\u001b[0m             \u001b[38;5;28;01mbreak\u001b[39;00m\n\u001b[1;32m   1217\u001b[0m \u001b[38;5;28;01mexcept\u001b[39;00m \u001b[38;5;167;01mKeyboardInterrupt\u001b[39;00m:\n\u001b[1;32m   1218\u001b[0m     \u001b[38;5;66;03m# re-raise KeyboardInterrupt, to truncate traceback\u001b[39;00m\n\u001b[0;32m-> 1219\u001b[0m     \u001b[38;5;28;01mraise\u001b[39;00m \u001b[38;5;167;01mKeyboardInterrupt\u001b[39;00m(\u001b[38;5;124m\"\u001b[39m\u001b[38;5;124mInterrupted by user\u001b[39m\u001b[38;5;124m\"\u001b[39m) \u001b[38;5;28;01mfrom\u001b[39;00m \u001b[38;5;28mNone\u001b[39m\n\u001b[1;32m   1220\u001b[0m \u001b[38;5;28;01mexcept\u001b[39;00m \u001b[38;5;167;01mException\u001b[39;00m:\n\u001b[1;32m   1221\u001b[0m     \u001b[38;5;28mself\u001b[39m\u001b[38;5;241m.\u001b[39mlog\u001b[38;5;241m.\u001b[39mwarning(\u001b[38;5;124m\"\u001b[39m\u001b[38;5;124mInvalid Message:\u001b[39m\u001b[38;5;124m\"\u001b[39m, exc_info\u001b[38;5;241m=\u001b[39m\u001b[38;5;28;01mTrue\u001b[39;00m)\n",
      "\u001b[0;31mKeyboardInterrupt\u001b[0m: Interrupted by user"
     ]
    }
   ],
   "source": [
    "# test try except SUCCESS\n",
    "num = None\n",
    "while num == None:\n",
    "    user_str = input('number plz')\n",
    "    try:\n",
    "        num = int(user_str)\n",
    "        print(num)\n",
    "    except ValueError:\n",
    "        print('nope')\n",
    "#    num = input('number plz')\n",
    "#     if num < 10:\n",
    "#     print('good')\n",
    "# else:\n",
    "#     print('nope')\n",
    "#     num = input('number plz')\n",
    "# print(num)"
   ]
  },
  {
   "cell_type": "code",
   "execution_count": 14,
   "id": "8f8f3326",
   "metadata": {},
   "outputs": [
    {
     "name": "stdout",
     "output_type": "stream",
     "text": [
      "do ite\n"
     ]
    },
    {
     "ename": "ValueError",
     "evalue": "invalid literal for int() with base 10: 'e'",
     "output_type": "error",
     "traceback": [
      "\u001b[0;31m---------------------------------------------------------------------------\u001b[0m",
      "\u001b[0;31mValueError\u001b[0m                                Traceback (most recent call last)",
      "Input \u001b[0;32mIn [14]\u001b[0m, in \u001b[0;36m<cell line: 2>\u001b[0;34m()\u001b[0m\n\u001b[1;32m      1\u001b[0m a \u001b[38;5;241m=\u001b[39m \u001b[38;5;28minput\u001b[39m(\u001b[38;5;124m'\u001b[39m\u001b[38;5;124mdo it\u001b[39m\u001b[38;5;124m'\u001b[39m)\n\u001b[0;32m----> 2\u001b[0m b \u001b[38;5;241m=\u001b[39m \u001b[38;5;28;43mint\u001b[39;49m\u001b[43m(\u001b[49m\u001b[43ma\u001b[49m\u001b[43m)\u001b[49m\n\u001b[1;32m      3\u001b[0m \u001b[38;5;28mprint\u001b[39m(b)\n",
      "\u001b[0;31mValueError\u001b[0m: invalid literal for int() with base 10: 'e'"
     ]
    }
   ],
   "source": [
    "a = input('do it')\n",
    "b = int(a)\n",
    "print(b)"
   ]
  },
  {
   "cell_type": "code",
   "execution_count": 40,
   "id": "a03d2eb0",
   "metadata": {},
   "outputs": [
    {
     "data": {
      "text/plain": [
       "time.struct_time(tm_year=2023, tm_mon=2, tm_mday=13, tm_hour=21, tm_min=21, tm_sec=20, tm_wday=0, tm_yday=44, tm_isdst=0)"
      ]
     },
     "execution_count": 40,
     "metadata": {},
     "output_type": "execute_result"
    }
   ],
   "source": [
    "import time\n",
    "time.time()\n",
    "time.gmtime()"
   ]
  },
  {
   "cell_type": "code",
   "execution_count": 47,
   "id": "f0a193f4",
   "metadata": {},
   "outputs": [
    {
     "data": {
      "text/plain": [
       "(2023, 2, 13, 21, 26, 15)"
      ]
     },
     "execution_count": 47,
     "metadata": {},
     "output_type": "execute_result"
    }
   ],
   "source": [
    "import time\n",
    "local = time.gmtime()[0:6]\n",
    "local"
   ]
  }
 ],
 "metadata": {
  "kernelspec": {
   "display_name": "Python 3 (ipykernel)",
   "language": "python",
   "name": "python3"
  },
  "language_info": {
   "codemirror_mode": {
    "name": "ipython",
    "version": 3
   },
   "file_extension": ".py",
   "mimetype": "text/x-python",
   "name": "python",
   "nbconvert_exporter": "python",
   "pygments_lexer": "ipython3",
   "version": "3.9.13"
  }
 },
 "nbformat": 4,
 "nbformat_minor": 5
}
