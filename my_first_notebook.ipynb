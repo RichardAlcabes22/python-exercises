{
 "cells": [
  {
   "cell_type": "code",
   "execution_count": 1,
   "id": "7eabc653",
   "metadata": {},
   "outputs": [
    {
     "data": {
      "text/plain": [
       "7"
      ]
     },
     "execution_count": 1,
     "metadata": {},
     "output_type": "execute_result"
    }
   ],
   "source": [
    "3 + 4\n"
   ]
  },
  {
   "cell_type": "markdown",
   "id": "a906465d",
   "metadata": {},
   "source": [
    "### This is for MARKDOWN\n",
    "\n",
    "##### Heading\n",
    "\n",
    "- List item 1\n",
    "- List item 2"
   ]
  },
  {
   "cell_type": "markdown",
   "id": "10b18a82",
   "metadata": {},
   "source": [
    "### New cell BELOW current cell\n",
    "ESC then B\n",
    "### New cell ABOVE current cell\n",
    "ESC then A"
   ]
  }
 ],
 "metadata": {
  "kernelspec": {
   "display_name": "Python 3 (ipykernel)",
   "language": "python",
   "name": "python3"
  },
  "language_info": {
   "codemirror_mode": {
    "name": "ipython",
    "version": 3
   },
   "file_extension": ".py",
   "mimetype": "text/x-python",
   "name": "python",
   "nbconvert_exporter": "python",
   "pygments_lexer": "ipython3",
   "version": "3.9.13"
  }
 },
 "nbformat": 4,
 "nbformat_minor": 5
}
