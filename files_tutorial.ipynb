{
 "cells": [
  {
   "cell_type": "markdown",
   "id": "dac603fd",
   "metadata": {},
   "source": [
    "### Reading Files with Python"
   ]
  },
  {
   "cell_type": "code",
   "execution_count": 1,
   "id": "e9180fe1",
   "metadata": {},
   "outputs": [],
   "source": [
    "# terminal oriented process:\n",
    "# touch file to create\n",
    "# add content via text editor(VSCode, etc)\n",
    "# save the thing \n",
    "# look at the thong (oen or cat)"
   ]
  },
  {
   "cell_type": "code",
   "execution_count": 12,
   "id": "e0c52bfc",
   "metadata": {},
   "outputs": [
    {
     "data": {
      "text/plain": [
       "<_io.TextIOWrapper name='test_file.txt' mode='r' encoding='UTF-8'>"
      ]
     },
     "execution_count": 12,
     "metadata": {},
     "output_type": "execute_result"
    }
   ],
   "source": [
    "# with python:\n",
    "# use reserved word 'OPEN'\n",
    "f = open('test_file.txt', 'r') # 'r' means READ, 'w' WRITE, 'a' APPEND\n",
    "f\n",
    "# test_file.txt lives here so no need to specify a filepath"
   ]
  },
  {
   "cell_type": "code",
   "execution_count": 13,
   "id": "6f29a2a0",
   "metadata": {},
   "outputs": [
    {
     "data": {
      "text/plain": [
       "'Wow...some content!\\nNeato Burrito!'"
      ]
     },
     "execution_count": 13,
     "metadata": {},
     "output_type": "execute_result"
    }
   ],
   "source": [
    "# If i pass read on the file, then I can get the content\n",
    "contents = f.read()\n",
    "contents"
   ]
  },
  {
   "cell_type": "code",
   "execution_count": 14,
   "id": "872830c8",
   "metadata": {},
   "outputs": [
    {
     "data": {
      "text/plain": [
       "['Wow...some content!', 'Neato Burrito!']"
      ]
     },
     "execution_count": 14,
     "metadata": {},
     "output_type": "execute_result"
    }
   ],
   "source": [
    "contents.split('\\n')"
   ]
  },
  {
   "cell_type": "code",
   "execution_count": 15,
   "id": "002077c2",
   "metadata": {},
   "outputs": [],
   "source": [
    "# After open file...you want to close it f.close()\n",
    "with open('test_file.txt','r') as ff:\n",
    "    my_content = ff.read()\n",
    "    "
   ]
  },
  {
   "cell_type": "code",
   "execution_count": 17,
   "id": "991ed501",
   "metadata": {},
   "outputs": [
    {
     "data": {
      "text/plain": [
       "['Wow...some content!', 'Neato Burrito!']"
      ]
     },
     "execution_count": 17,
     "metadata": {},
     "output_type": "execute_result"
    }
   ],
   "source": [
    "my_content = my_content.split('\\n')\n",
    "my_content"
   ]
  },
  {
   "cell_type": "code",
   "execution_count": 19,
   "id": "4e319499",
   "metadata": {},
   "outputs": [],
   "source": [
    "with open('test_file.txt','w') as ff:\n",
    "    ff.write('some moore stuff')"
   ]
  },
  {
   "cell_type": "code",
   "execution_count": 20,
   "id": "7f173a6a",
   "metadata": {},
   "outputs": [],
   "source": [
    "import os"
   ]
  },
  {
   "cell_type": "code",
   "execution_count": 21,
   "id": "64722bb9",
   "metadata": {},
   "outputs": [
    {
     "name": "stdout",
     "output_type": "stream",
     "text": [
      "no joy\n"
     ]
    }
   ],
   "source": [
    "if os.path.exists('extra_file.txt'):\n",
    "    print('yay!')\n",
    "    with open('extra_file.txt','r') as f:\n",
    "        lines = f.readlines()\n",
    "else:\n",
    "    print('no joy')\n",
    "    with open('extra_file.txt','w') as f:\n",
    "        f.write('look, here is a brand new file')\n"
   ]
  },
  {
   "cell_type": "code",
   "execution_count": 22,
   "id": "fe3c2eff",
   "metadata": {},
   "outputs": [],
   "source": [
    "# lets make a .csv\n",
    "\n",
    "with open('baby_csv.csv','w') as f:\n",
    "    f.writelines(\n",
    "    ['field_1,field_2,field_3\\n,'\n",
    "    '0, 25, ham\\n',\n",
    "    '1,29,sandwich\\n'])"
   ]
  },
  {
   "cell_type": "code",
   "execution_count": 24,
   "id": "bb9cad37",
   "metadata": {},
   "outputs": [
    {
     "data": {
      "text/plain": [
       "['field_1,field_2,field_3\\n', ',0, 25, ham\\n', '1,29,sandwich\\n']"
      ]
     },
     "execution_count": 24,
     "metadata": {},
     "output_type": "execute_result"
    }
   ],
   "source": [
    "with open('baby_csv.csv','r') as f:\n",
    "    my_baby_csv = f.readlines()\n",
    "my_baby_csv"
   ]
  },
  {
   "cell_type": "code",
   "execution_count": 34,
   "id": "5fb5d91e",
   "metadata": {},
   "outputs": [],
   "source": [
    "# import csv!\n",
    "import csv"
   ]
  },
  {
   "cell_type": "code",
   "execution_count": 31,
   "id": "873a988a",
   "metadata": {},
   "outputs": [],
   "source": [
    "#DictWriter,DictReader\n",
    "# lets make a receipt\n",
    "# item, category, price\n",
    "# 3 cols: item:, category:, price:\n",
    "cols = ['item','category','price']\n",
    "transaction = {\n",
    "    'item':'milk',\n",
    "    'category':'dairy',\n",
    "    'price': 100.00\n",
    "}\n",
    "\n",
    "    "
   ]
  },
  {
   "cell_type": "code",
   "execution_count": 35,
   "id": "98e98135",
   "metadata": {},
   "outputs": [
    {
     "data": {
      "text/plain": [
       "{'item': 'milk', 'category': 'dairy', 'price': 100.0}"
      ]
     },
     "execution_count": 35,
     "metadata": {},
     "output_type": "execute_result"
    }
   ],
   "source": [
    "transaction"
   ]
  },
  {
   "cell_type": "code",
   "execution_count": null,
   "id": "041f618c",
   "metadata": {},
   "outputs": [],
   "source": [
    "# csv.Dictwriter() needs: what file to write to f and field names (cols)"
   ]
  },
  {
   "cell_type": "code",
   "execution_count": 41,
   "id": "1b78e983",
   "metadata": {},
   "outputs": [],
   "source": [
    "with open('groceries.csv', 'w') as f:\n",
    "    writer = csv.DictWriter(f, fieldnames=cols)\n",
    "    writer.writeheader()\n",
    "    writer.writerow(transaction)\n",
    "    "
   ]
  },
  {
   "cell_type": "code",
   "execution_count": 44,
   "id": "d7aca988",
   "metadata": {},
   "outputs": [],
   "source": [
    "with open('groceries.csv', 'a') as f:\n",
    "    writer = csv.DictWriter(f, fieldnames=cols)\n",
    "    writer.writerow(\n",
    "    {\n",
    "        'item':'eggs',\n",
    "        'category':'dairy',\n",
    "        'price': 500.00\n",
    "        \n",
    "    })"
   ]
  },
  {
   "cell_type": "code",
   "execution_count": 45,
   "id": "128016c9",
   "metadata": {},
   "outputs": [],
   "source": [
    "with open('groceries.csv', 'r') as f:\n",
    "    content = csv.DictReader(f,fieldnames=cols)\n",
    "    lines = []\n",
    "    for line in content:\n",
    "        lines.append(line)"
   ]
  },
  {
   "cell_type": "code",
   "execution_count": 50,
   "id": "0f3e029a",
   "metadata": {},
   "outputs": [
    {
     "data": {
      "text/plain": [
       "[{'item': 'item', 'category': 'category', 'price': 'price'},\n",
       " {'item': 'milk', 'category': 'dairy', 'price': '100.0'},\n",
       " {'item': 'eggs', 'category': 'dairy', 'price': '500.0'}]"
      ]
     },
     "execution_count": 50,
     "metadata": {},
     "output_type": "execute_result"
    }
   ],
   "source": [
    "lines"
   ]
  },
  {
   "cell_type": "code",
   "execution_count": 47,
   "id": "5f9d6faa",
   "metadata": {},
   "outputs": [],
   "source": [
    "# exiting a function in python: exit()\n",
    "# my projetc make a csv with:\n",
    "# credit/ debbit trans type. trans value, trans toimestamp\n",
    "import time"
   ]
  },
  {
   "cell_type": "code",
   "execution_count": 48,
   "id": "a4a51c46",
   "metadata": {},
   "outputs": [
    {
     "data": {
      "text/plain": [
       "1676308908.8444319"
      ]
     },
     "execution_count": 48,
     "metadata": {},
     "output_type": "execute_result"
    }
   ],
   "source": [
    "time.time()"
   ]
  },
  {
   "cell_type": "code",
   "execution_count": 49,
   "id": "2682454d",
   "metadata": {},
   "outputs": [
    {
     "name": "stdout",
     "output_type": "stream",
     "text": [
      "['item', 'category', 'price']\n",
      "['milk', 'dairy', '100.0']\n",
      "['eggs', 'dairy', '500.0']\n"
     ]
    }
   ],
   "source": [
    "import csv\n",
    "with open('groceries.csv', newline='') as f:\n",
    "    reader = csv.reader(f)\n",
    "    for row in reader:\n",
    "        print(row)"
   ]
  },
  {
   "cell_type": "code",
   "execution_count": null,
   "id": "08148cdc",
   "metadata": {},
   "outputs": [],
   "source": []
  }
 ],
 "metadata": {
  "kernelspec": {
   "display_name": "Python 3 (ipykernel)",
   "language": "python",
   "name": "python3"
  },
  "language_info": {
   "codemirror_mode": {
    "name": "ipython",
    "version": 3
   },
   "file_extension": ".py",
   "mimetype": "text/x-python",
   "name": "python",
   "nbconvert_exporter": "python",
   "pygments_lexer": "ipython3",
   "version": "3.9.13"
  }
 },
 "nbformat": 4,
 "nbformat_minor": 5
}
